{
 "cells": [
  {
   "cell_type": "code",
   "execution_count": 1,
   "id": "7d33e68c",
   "metadata": {},
   "outputs": [],
   "source": [
    "import os\n",
    "import numpy as np\n",
    "import pandas as pd\n",
    "import matplotlib.pyplot as plt\n",
    "import seaborn as sns\n",
    "\n",
    "from sklearn.model_selection import train_test_split\n",
    "from sklearn.preprocessing import StandardScaler"
   ]
  },
  {
   "cell_type": "code",
   "execution_count": 2,
   "id": "3ee5c7e3",
   "metadata": {},
   "outputs": [
    {
     "data": {
      "text/html": [
       "<div>\n",
       "<style scoped>\n",
       "    .dataframe tbody tr th:only-of-type {\n",
       "        vertical-align: middle;\n",
       "    }\n",
       "\n",
       "    .dataframe tbody tr th {\n",
       "        vertical-align: top;\n",
       "    }\n",
       "\n",
       "    .dataframe thead th {\n",
       "        text-align: right;\n",
       "    }\n",
       "</style>\n",
       "<table border=\"1\" class=\"dataframe\">\n",
       "  <thead>\n",
       "    <tr style=\"text-align: right;\">\n",
       "      <th></th>\n",
       "      <th>Age</th>\n",
       "      <th>Sex</th>\n",
       "      <th>ChestPainType</th>\n",
       "      <th>RestingBP</th>\n",
       "      <th>Cholesterol</th>\n",
       "      <th>FastingBS</th>\n",
       "      <th>RestingECG</th>\n",
       "      <th>MaxHR</th>\n",
       "      <th>ExerciseAngina</th>\n",
       "      <th>Oldpeak</th>\n",
       "      <th>ST_Slope</th>\n",
       "      <th>HeartDisease</th>\n",
       "      <th>age_bin</th>\n",
       "      <th>hereditary</th>\n",
       "    </tr>\n",
       "  </thead>\n",
       "  <tbody>\n",
       "    <tr>\n",
       "      <th>0</th>\n",
       "      <td>40</td>\n",
       "      <td>M</td>\n",
       "      <td>ATA</td>\n",
       "      <td>140</td>\n",
       "      <td>289</td>\n",
       "      <td>0</td>\n",
       "      <td>Normal</td>\n",
       "      <td>172</td>\n",
       "      <td>N</td>\n",
       "      <td>0.0</td>\n",
       "      <td>Up</td>\n",
       "      <td>0</td>\n",
       "      <td>20-40</td>\n",
       "      <td>0</td>\n",
       "    </tr>\n",
       "    <tr>\n",
       "      <th>1</th>\n",
       "      <td>49</td>\n",
       "      <td>F</td>\n",
       "      <td>NAP</td>\n",
       "      <td>160</td>\n",
       "      <td>180</td>\n",
       "      <td>0</td>\n",
       "      <td>Normal</td>\n",
       "      <td>156</td>\n",
       "      <td>N</td>\n",
       "      <td>1.0</td>\n",
       "      <td>Flat</td>\n",
       "      <td>1</td>\n",
       "      <td>40-60</td>\n",
       "      <td>0</td>\n",
       "    </tr>\n",
       "    <tr>\n",
       "      <th>2</th>\n",
       "      <td>37</td>\n",
       "      <td>M</td>\n",
       "      <td>ATA</td>\n",
       "      <td>130</td>\n",
       "      <td>283</td>\n",
       "      <td>0</td>\n",
       "      <td>ST</td>\n",
       "      <td>98</td>\n",
       "      <td>N</td>\n",
       "      <td>0.0</td>\n",
       "      <td>Up</td>\n",
       "      <td>0</td>\n",
       "      <td>20-40</td>\n",
       "      <td>0</td>\n",
       "    </tr>\n",
       "    <tr>\n",
       "      <th>3</th>\n",
       "      <td>48</td>\n",
       "      <td>F</td>\n",
       "      <td>ASY</td>\n",
       "      <td>138</td>\n",
       "      <td>214</td>\n",
       "      <td>0</td>\n",
       "      <td>Normal</td>\n",
       "      <td>108</td>\n",
       "      <td>Y</td>\n",
       "      <td>1.5</td>\n",
       "      <td>Flat</td>\n",
       "      <td>1</td>\n",
       "      <td>40-60</td>\n",
       "      <td>0</td>\n",
       "    </tr>\n",
       "    <tr>\n",
       "      <th>4</th>\n",
       "      <td>54</td>\n",
       "      <td>M</td>\n",
       "      <td>NAP</td>\n",
       "      <td>150</td>\n",
       "      <td>195</td>\n",
       "      <td>0</td>\n",
       "      <td>Normal</td>\n",
       "      <td>122</td>\n",
       "      <td>N</td>\n",
       "      <td>0.0</td>\n",
       "      <td>Up</td>\n",
       "      <td>0</td>\n",
       "      <td>40-60</td>\n",
       "      <td>0</td>\n",
       "    </tr>\n",
       "  </tbody>\n",
       "</table>\n",
       "</div>"
      ],
      "text/plain": [
       "   Age Sex ChestPainType  RestingBP  Cholesterol  FastingBS RestingECG  MaxHR  \\\n",
       "0   40   M           ATA        140          289          0     Normal    172   \n",
       "1   49   F           NAP        160          180          0     Normal    156   \n",
       "2   37   M           ATA        130          283          0         ST     98   \n",
       "3   48   F           ASY        138          214          0     Normal    108   \n",
       "4   54   M           NAP        150          195          0     Normal    122   \n",
       "\n",
       "  ExerciseAngina  Oldpeak ST_Slope  HeartDisease age_bin  hereditary  \n",
       "0              N      0.0       Up             0   20-40           0  \n",
       "1              N      1.0     Flat             1   40-60           0  \n",
       "2              N      0.0       Up             0   20-40           0  \n",
       "3              Y      1.5     Flat             1   40-60           0  \n",
       "4              N      0.0       Up             0   40-60           0  "
      ]
     },
     "execution_count": 2,
     "metadata": {},
     "output_type": "execute_result"
    }
   ],
   "source": [
    "heart = pd.read_csv('../data/heart2.csv')\n",
    "heart.head()"
   ]
  },
  {
   "cell_type": "code",
   "execution_count": 3,
   "id": "5fb5d874",
   "metadata": {},
   "outputs": [
    {
     "data": {
      "text/plain": [
       "1    152\n",
       "0     20\n",
       "Name: HeartDisease, dtype: int64"
      ]
     },
     "execution_count": 3,
     "metadata": {},
     "output_type": "execute_result"
    }
   ],
   "source": [
    "heart[heart['Cholesterol'] == 0]['HeartDisease'].value_counts()"
   ]
  },
  {
   "cell_type": "code",
   "execution_count": 4,
   "id": "92de42a4",
   "metadata": {},
   "outputs": [
    {
     "data": {
      "text/plain": [
       "1    508\n",
       "0    410\n",
       "Name: HeartDisease, dtype: int64"
      ]
     },
     "execution_count": 4,
     "metadata": {},
     "output_type": "execute_result"
    }
   ],
   "source": [
    "heart.HeartDisease.value_counts()"
   ]
  },
  {
   "cell_type": "code",
   "execution_count": 5,
   "id": "eb4c5788",
   "metadata": {},
   "outputs": [
    {
     "data": {
      "image/png": "[encoded data removed]",
      "text/plain": [
       "<Figure size 640x480 with 1 Axes>"
      ]
     },
     "metadata": {},
     "output_type": "display_data"
    }
   ],
   "source": [
    "sns.histplot(x='Cholesterol', hue='HeartDisease', data=heart, binwidth=50)\n",
    "plt.show()"
   ]
  },
  {
   "cell_type": "markdown",
   "id": "bc308935",
   "metadata": {},
   "source": [
    "### Create features and dummies, and then split and scale the data"
   ]
  },
  {
   "cell_type": "code",
   "execution_count": 6,
   "id": "d9a122f2",
   "metadata": {},
   "outputs": [],
   "source": [
    "feat = ['Age', 'Sex', 'ChestPainType', 'RestingBP', 'Cholesterol', 'FastingBS',\n",
    "       'RestingECG', 'MaxHR', 'ExerciseAngina', 'Oldpeak', 'ST_Slope', 'hereditary']\n",
    "X = heart[feat]\n",
    "y = heart.HeartDisease"
   ]
  },
  {
   "cell_type": "code",
   "execution_count": 7,
   "id": "b6813db6",
   "metadata": {},
   "outputs": [],
   "source": [
    "X = pd.get_dummies(X)\n",
    "X_train, X_test, y_train, y_test= train_test_split(X, y, test_size = 0.3)"
   ]
  },
  {
   "cell_type": "code",
   "execution_count": 8,
   "id": "d8d5a3e3",
   "metadata": {},
   "outputs": [],
   "source": [
    "scaler = StandardScaler()\n",
    "X_train_scaled=scaler.fit_transform(X_train)\n",
    "X_test_scaled=scaler.transform(X_test)"
   ]
  },
  {
   "cell_type": "code",
   "execution_count": 12,
   "id": "f113a76a",
   "metadata": {},
   "outputs": [
    {
     "data": {
      "text/html": [
       "<style type=\"text/css\">\n",
       "#T_7d8d3_row10_col1 {\n",
       "  background-color: lightgreen;\n",
       "}\n",
       "</style>\n",
       "<table id=\"T_7d8d3\">\n",
       "  <thead>\n",
       "    <tr>\n",
       "      <th class=\"blank level0\" >&nbsp;</th>\n",
       "      <th id=\"T_7d8d3_level0_col0\" class=\"col_heading level0 col0\" >Description</th>\n",
       "      <th id=\"T_7d8d3_level0_col1\" class=\"col_heading level0 col1\" >Value</th>\n",
       "    </tr>\n",
       "  </thead>\n",
       "  <tbody>\n",
       "    <tr>\n",
       "      <th id=\"T_7d8d3_level0_row0\" class=\"row_heading level0 row0\" >0</th>\n",
       "      <td id=\"T_7d8d3_row0_col0\" class=\"data row0 col0\" >Session id</td>\n",
       "      <td id=\"T_7d8d3_row0_col1\" class=\"data row0 col1\" >6182</td>\n",
       "    </tr>\n",
       "    <tr>\n",
       "      <th id=\"T_7d8d3_level0_row1\" class=\"row_heading level0 row1\" >1</th>\n",
       "      <td id=\"T_7d8d3_row1_col0\" class=\"data row1 col0\" >Target</td>\n",
       "      <td id=\"T_7d8d3_row1_col1\" class=\"data row1 col1\" >HeartDisease</td>\n",
       "    </tr>\n",
       "    <tr>\n",
       "      <th id=\"T_7d8d3_level0_row2\" class=\"row_heading level0 row2\" >2</th>\n",
       "      <td id=\"T_7d8d3_row2_col0\" class=\"data row2 col0\" >Target type</td>\n",
       "      <td id=\"T_7d8d3_row2_col1\" class=\"data row2 col1\" >Binary</td>\n",
       "    </tr>\n",
       "    <tr>\n",
       "      <th id=\"T_7d8d3_level0_row3\" class=\"row_heading level0 row3\" >3</th>\n",
       "      <td id=\"T_7d8d3_row3_col0\" class=\"data row3 col0\" >Original data shape</td>\n",
       "      <td id=\"T_7d8d3_row3_col1\" class=\"data row3 col1\" >(918, 14)</td>\n",
       "    </tr>\n",
       "    <tr>\n",
       "      <th id=\"T_7d8d3_level0_row4\" class=\"row_heading level0 row4\" >4</th>\n",
       "      <td id=\"T_7d8d3_row4_col0\" class=\"data row4 col0\" >Transformed data shape</td>\n",
       "      <td id=\"T_7d8d3_row4_col1\" class=\"data row4 col1\" >(918, 23)</td>\n",
       "    </tr>\n",
       "    <tr>\n",
       "      <th id=\"T_7d8d3_level0_row5\" class=\"row_heading level0 row5\" >5</th>\n",
       "      <td id=\"T_7d8d3_row5_col0\" class=\"data row5 col0\" >Transformed train set shape</td>\n",
       "      <td id=\"T_7d8d3_row5_col1\" class=\"data row5 col1\" >(642, 23)</td>\n",
       "    </tr>\n",
       "    <tr>\n",
       "      <th id=\"T_7d8d3_level0_row6\" class=\"row_heading level0 row6\" >6</th>\n",
       "      <td id=\"T_7d8d3_row6_col0\" class=\"data row6 col0\" >Transformed test set shape</td>\n",
       "      <td id=\"T_7d8d3_row6_col1\" class=\"data row6 col1\" >(276, 23)</td>\n",
       "    </tr>\n",
       "    <tr>\n",
       "      <th id=\"T_7d8d3_level0_row7\" class=\"row_heading level0 row7\" >7</th>\n",
       "      <td id=\"T_7d8d3_row7_col0\" class=\"data row7 col0\" >Ordinal features</td>\n",
       "      <td id=\"T_7d8d3_row7_col1\" class=\"data row7 col1\" >2</td>\n",
       "    </tr>\n",
       "    <tr>\n",
       "      <th id=\"T_7d8d3_level0_row8\" class=\"row_heading level0 row8\" >8</th>\n",
       "      <td id=\"T_7d8d3_row8_col0\" class=\"data row8 col0\" >Numeric features</td>\n",
       "      <td id=\"T_7d8d3_row8_col1\" class=\"data row8 col1\" >7</td>\n",
       "    </tr>\n",
       "    <tr>\n",
       "      <th id=\"T_7d8d3_level0_row9\" class=\"row_heading level0 row9\" >9</th>\n",
       "      <td id=\"T_7d8d3_row9_col0\" class=\"data row9 col0\" >Categorical features</td>\n",
       "      <td id=\"T_7d8d3_row9_col1\" class=\"data row9 col1\" >6</td>\n",
       "    </tr>\n",
       "    <tr>\n",
       "      <th id=\"T_7d8d3_level0_row10\" class=\"row_heading level0 row10\" >10</th>\n",
       "      <td id=\"T_7d8d3_row10_col0\" class=\"data row10 col0\" >Preprocess</td>\n",
       "      <td id=\"T_7d8d3_row10_col1\" class=\"data row10 col1\" >True</td>\n",
       "    </tr>\n",
       "    <tr>\n",
       "      <th id=\"T_7d8d3_level0_row11\" class=\"row_heading level0 row11\" >11</th>\n",
       "      <td id=\"T_7d8d3_row11_col0\" class=\"data row11 col0\" >Imputation type</td>\n",
       "      <td id=\"T_7d8d3_row11_col1\" class=\"data row11 col1\" >simple</td>\n",
       "    </tr>\n",
       "    <tr>\n",
       "      <th id=\"T_7d8d3_level0_row12\" class=\"row_heading level0 row12\" >12</th>\n",
       "      <td id=\"T_7d8d3_row12_col0\" class=\"data row12 col0\" >Numeric imputation</td>\n",
       "      <td id=\"T_7d8d3_row12_col1\" class=\"data row12 col1\" >mean</td>\n",
       "    </tr>\n",
       "    <tr>\n",
       "      <th id=\"T_7d8d3_level0_row13\" class=\"row_heading level0 row13\" >13</th>\n",
       "      <td id=\"T_7d8d3_row13_col0\" class=\"data row13 col0\" >Categorical imputation</td>\n",
       "      <td id=\"T_7d8d3_row13_col1\" class=\"data row13 col1\" >mode</td>\n",
       "    </tr>\n",
       "    <tr>\n",
       "      <th id=\"T_7d8d3_level0_row14\" class=\"row_heading level0 row14\" >14</th>\n",
       "      <td id=\"T_7d8d3_row14_col0\" class=\"data row14 col0\" >Maximum one-hot encoding</td>\n",
       "      <td id=\"T_7d8d3_row14_col1\" class=\"data row14 col1\" >25</td>\n",
       "    </tr>\n",
       "    <tr>\n",
       "      <th id=\"T_7d8d3_level0_row15\" class=\"row_heading level0 row15\" >15</th>\n",
       "      <td id=\"T_7d8d3_row15_col0\" class=\"data row15 col0\" >Encoding method</td>\n",
       "      <td id=\"T_7d8d3_row15_col1\" class=\"data row15 col1\" >None</td>\n",
       "    </tr>\n",
       "    <tr>\n",
       "      <th id=\"T_7d8d3_level0_row16\" class=\"row_heading level0 row16\" >16</th>\n",
       "      <td id=\"T_7d8d3_row16_col0\" class=\"data row16 col0\" >Fold Generator</td>\n",
       "      <td id=\"T_7d8d3_row16_col1\" class=\"data row16 col1\" >StratifiedKFold</td>\n",
       "    </tr>\n",
       "    <tr>\n",
       "      <th id=\"T_7d8d3_level0_row17\" class=\"row_heading level0 row17\" >17</th>\n",
       "      <td id=\"T_7d8d3_row17_col0\" class=\"data row17 col0\" >Fold Number</td>\n",
       "      <td id=\"T_7d8d3_row17_col1\" class=\"data row17 col1\" >10</td>\n",
       "    </tr>\n",
       "    <tr>\n",
       "      <th id=\"T_7d8d3_level0_row18\" class=\"row_heading level0 row18\" >18</th>\n",
       "      <td id=\"T_7d8d3_row18_col0\" class=\"data row18 col0\" >CPU Jobs</td>\n",
       "      <td id=\"T_7d8d3_row18_col1\" class=\"data row18 col1\" >-1</td>\n",
       "    </tr>\n",
       "    <tr>\n",
       "      <th id=\"T_7d8d3_level0_row19\" class=\"row_heading level0 row19\" >19</th>\n",
       "      <td id=\"T_7d8d3_row19_col0\" class=\"data row19 col0\" >Use GPU</td>\n",
       "      <td id=\"T_7d8d3_row19_col1\" class=\"data row19 col1\" >False</td>\n",
       "    </tr>\n",
       "    <tr>\n",
       "      <th id=\"T_7d8d3_level0_row20\" class=\"row_heading level0 row20\" >20</th>\n",
       "      <td id=\"T_7d8d3_row20_col0\" class=\"data row20 col0\" >Log Experiment</td>\n",
       "      <td id=\"T_7d8d3_row20_col1\" class=\"data row20 col1\" >False</td>\n",
       "    </tr>\n",
       "    <tr>\n",
       "      <th id=\"T_7d8d3_level0_row21\" class=\"row_heading level0 row21\" >21</th>\n",
       "      <td id=\"T_7d8d3_row21_col0\" class=\"data row21 col0\" >Experiment Name</td>\n",
       "      <td id=\"T_7d8d3_row21_col1\" class=\"data row21 col1\" >clf-default-name</td>\n",
       "    </tr>\n",
       "    <tr>\n",
       "      <th id=\"T_7d8d3_level0_row22\" class=\"row_heading level0 row22\" >22</th>\n",
       "      <td id=\"T_7d8d3_row22_col0\" class=\"data row22 col0\" >USI</td>\n",
       "      <td id=\"T_7d8d3_row22_col1\" class=\"data row22 col1\" >e871</td>\n",
       "    </tr>\n",
       "  </tbody>\n",
       "</table>\n"
      ],
      "text/plain": [
       "<pandas.io.formats.style.Styler at 0x18ddbb401f0>"
      ]
     },
     "metadata": {},
     "output_type": "display_data"
    }
   ],
   "source": [
    "from pycaret.classification import ClassificationExperiment\n",
    "s = ClassificationExperiment()\n",
    "s = setup(heart, target = 'HeartDisease')\n",
    "#choose classification, predictor variable, will show "
   ]
  },
  {
   "cell_type": "code",
   "execution_count": 13,
   "id": "78e78c88",
   "metadata": {},
   "outputs": [
    {
     "data": {
      "text/html": [],
      "text/plain": [
       "<IPython.core.display.HTML object>"
      ]
     },
     "metadata": {},
     "output_type": "display_data"
    },
    {
     "data": {
      "text/html": [
       "<style type=\"text/css\">\n",
       "#T_bf6b9 th {\n",
       "  text-align: left;\n",
       "}\n",
       "#T_bf6b9_row0_col0, #T_bf6b9_row0_col3, #T_bf6b9_row0_col4, #T_bf6b9_row1_col0, #T_bf6b9_row1_col1, #T_bf6b9_row1_col2, #T_bf6b9_row1_col3, #T_bf6b9_row1_col4, #T_bf6b9_row1_col5, #T_bf6b9_row1_col6, #T_bf6b9_row1_col7, #T_bf6b9_row2_col0, #T_bf6b9_row2_col1, #T_bf6b9_row2_col2, #T_bf6b9_row2_col3, #T_bf6b9_row2_col4, #T_bf6b9_row2_col5, #T_bf6b9_row2_col6, #T_bf6b9_row2_col7, #T_bf6b9_row3_col0, #T_bf6b9_row3_col1, #T_bf6b9_row3_col2, #T_bf6b9_row3_col3, #T_bf6b9_row3_col4, #T_bf6b9_row3_col5, #T_bf6b9_row3_col6, #T_bf6b9_row3_col7, #T_bf6b9_row4_col0, #T_bf6b9_row4_col1, #T_bf6b9_row4_col2, #T_bf6b9_row4_col3, #T_bf6b9_row4_col4, #T_bf6b9_row4_col5, #T_bf6b9_row4_col6, #T_bf6b9_row4_col7, #T_bf6b9_row5_col0, #T_bf6b9_row5_col1, #T_bf6b9_row5_col2, #T_bf6b9_row5_col3, #T_bf6b9_row5_col4, #T_bf6b9_row5_col5, #T_bf6b9_row5_col6, #T_bf6b9_row5_col7, #T_bf6b9_row6_col0, #T_bf6b9_row6_col1, #T_bf6b9_row6_col2, #T_bf6b9_row6_col3, #T_bf6b9_row6_col4, #T_bf6b9_row6_col5, #T_bf6b9_row6_col6, #T_bf6b9_row6_col7, #T_bf6b9_row7_col0, #T_bf6b9_row7_col1, #T_bf6b9_row7_col2, #T_bf6b9_row7_col3, #T_bf6b9_row7_col4, #T_bf6b9_row7_col5, #T_bf6b9_row7_col6, #T_bf6b9_row7_col7, #T_bf6b9_row8_col0, #T_bf6b9_row8_col1, #T_bf6b9_row8_col2, #T_bf6b9_row8_col3, #T_bf6b9_row8_col4, #T_bf6b9_row8_col5, #T_bf6b9_row8_col6, #T_bf6b9_row8_col7, #T_bf6b9_row9_col0, #T_bf6b9_row9_col1, #T_bf6b9_row9_col2, #T_bf6b9_row9_col3, #T_bf6b9_row9_col5, #T_bf6b9_row9_col6, #T_bf6b9_row9_col7, #T_bf6b9_row10_col0, #T_bf6b9_row10_col1, #T_bf6b9_row10_col2, #T_bf6b9_row10_col3, #T_bf6b9_row10_col4, #T_bf6b9_row10_col5, #T_bf6b9_row10_col6, #T_bf6b9_row10_col7, #T_bf6b9_row11_col0, #T_bf6b9_row11_col1, #T_bf6b9_row11_col2, #T_bf6b9_row11_col3, #T_bf6b9_row11_col4, #T_bf6b9_row11_col5, #T_bf6b9_row11_col6, #T_bf6b9_row11_col7, #T_bf6b9_row12_col0, #T_bf6b9_row12_col1, #T_bf6b9_row12_col2, #T_bf6b9_row12_col3, #T_bf6b9_row12_col4, #T_bf6b9_row12_col5, #T_bf6b9_row12_col6, #T_bf6b9_row12_col7, #T_bf6b9_row13_col0, #T_bf6b9_row13_col1, #T_bf6b9_row13_col2, #T_bf6b9_row13_col4, #T_bf6b9_row13_col5, #T_bf6b9_row13_col6, #T_bf6b9_row13_col7, #T_bf6b9_row14_col0, #T_bf6b9_row14_col1, #T_bf6b9_row14_col2, #T_bf6b9_row14_col3, #T_bf6b9_row14_col4, #T_bf6b9_row14_col5, #T_bf6b9_row14_col6, #T_bf6b9_row14_col7 {\n",
       "  text-align: left;\n",
       "}\n",
       "#T_bf6b9_row0_col1, #T_bf6b9_row0_col2, #T_bf6b9_row0_col5, #T_bf6b9_row0_col6, #T_bf6b9_row0_col7, #T_bf6b9_row9_col4, #T_bf6b9_row13_col3 {\n",
       "  text-align: left;\n",
       "  background-color: yellow;\n",
       "}\n",
       "#T_bf6b9_row0_col8, #T_bf6b9_row1_col8, #T_bf6b9_row2_col8, #T_bf6b9_row4_col8, #T_bf6b9_row5_col8, #T_bf6b9_row6_col8, #T_bf6b9_row7_col8, #T_bf6b9_row8_col8, #T_bf6b9_row9_col8, #T_bf6b9_row10_col8, #T_bf6b9_row11_col8, #T_bf6b9_row13_col8, #T_bf6b9_row14_col8 {\n",
       "  text-align: left;\n",
       "  background-color: lightgrey;\n",
       "}\n",
       "#T_bf6b9_row3_col8, #T_bf6b9_row12_col8 {\n",
       "  text-align: left;\n",
       "  background-color: yellow;\n",
       "  background-color: lightgrey;\n",
       "}\n",
       "</style>\n",
       "<table id=\"T_bf6b9\">\n",
       "  <thead>\n",
       "    <tr>\n",
       "      <th class=\"blank level0\" >&nbsp;</th>\n",
       "      <th id=\"T_bf6b9_level0_col0\" class=\"col_heading level0 col0\" >Model</th>\n",
       "      <th id=\"T_bf6b9_level0_col1\" class=\"col_heading level0 col1\" >Accuracy</th>\n",
       "      <th id=\"T_bf6b9_level0_col2\" class=\"col_heading level0 col2\" >AUC</th>\n",
       "      <th id=\"T_bf6b9_level0_col3\" class=\"col_heading level0 col3\" >Recall</th>\n",
       "      <th id=\"T_bf6b9_level0_col4\" class=\"col_heading level0 col4\" >Prec.</th>\n",
       "      <th id=\"T_bf6b9_level0_col5\" class=\"col_heading level0 col5\" >F1</th>\n",
       "      <th id=\"T_bf6b9_level0_col6\" class=\"col_heading level0 col6\" >Kappa</th>\n",
       "      <th id=\"T_bf6b9_level0_col7\" class=\"col_heading level0 col7\" >MCC</th>\n",
       "      <th id=\"T_bf6b9_level0_col8\" class=\"col_heading level0 col8\" >TT (Sec)</th>\n",
       "    </tr>\n",
       "  </thead>\n",
       "  <tbody>\n",
       "    <tr>\n",
       "      <th id=\"T_bf6b9_level0_row0\" class=\"row_heading level0 row0\" >catboost</th>\n",
       "      <td id=\"T_bf6b9_row0_col0\" class=\"data row0 col0\" >CatBoost Classifier</td>\n",
       "      <td id=\"T_bf6b9_row0_col1\" class=\"data row0 col1\" >0.8801</td>\n",
       "      <td id=\"T_bf6b9_row0_col2\" class=\"data row0 col2\" >0.9360</td>\n",
       "      <td id=\"T_bf6b9_row0_col3\" class=\"data row0 col3\" >0.9155</td>\n",
       "      <td id=\"T_bf6b9_row0_col4\" class=\"data row0 col4\" >0.8774</td>\n",
       "      <td id=\"T_bf6b9_row0_col5\" class=\"data row0 col5\" >0.8948</td>\n",
       "      <td id=\"T_bf6b9_row0_col6\" class=\"data row0 col6\" >0.7555</td>\n",
       "      <td id=\"T_bf6b9_row0_col7\" class=\"data row0 col7\" >0.7594</td>\n",
       "      <td id=\"T_bf6b9_row0_col8\" class=\"data row0 col8\" >0.3820</td>\n",
       "    </tr>\n",
       "    <tr>\n",
       "      <th id=\"T_bf6b9_level0_row1\" class=\"row_heading level0 row1\" >lightgbm</th>\n",
       "      <td id=\"T_bf6b9_row1_col0\" class=\"data row1 col0\" >Light Gradient Boosting Machine</td>\n",
       "      <td id=\"T_bf6b9_row1_col1\" class=\"data row1 col1\" >0.8645</td>\n",
       "      <td id=\"T_bf6b9_row1_col2\" class=\"data row1 col2\" >0.9267</td>\n",
       "      <td id=\"T_bf6b9_row1_col3\" class=\"data row1 col3\" >0.8874</td>\n",
       "      <td id=\"T_bf6b9_row1_col4\" class=\"data row1 col4\" >0.8734</td>\n",
       "      <td id=\"T_bf6b9_row1_col5\" class=\"data row1 col5\" >0.8794</td>\n",
       "      <td id=\"T_bf6b9_row1_col6\" class=\"data row1 col6\" >0.7247</td>\n",
       "      <td id=\"T_bf6b9_row1_col7\" class=\"data row1 col7\" >0.7268</td>\n",
       "      <td id=\"T_bf6b9_row1_col8\" class=\"data row1 col8\" >0.1240</td>\n",
       "    </tr>\n",
       "    <tr>\n",
       "      <th id=\"T_bf6b9_level0_row2\" class=\"row_heading level0 row2\" >rf</th>\n",
       "      <td id=\"T_bf6b9_row2_col0\" class=\"data row2 col0\" >Random Forest Classifier</td>\n",
       "      <td id=\"T_bf6b9_row2_col1\" class=\"data row2 col1\" >0.8613</td>\n",
       "      <td id=\"T_bf6b9_row2_col2\" class=\"data row2 col2\" >0.9262</td>\n",
       "      <td id=\"T_bf6b9_row2_col3\" class=\"data row2 col3\" >0.8871</td>\n",
       "      <td id=\"T_bf6b9_row2_col4\" class=\"data row2 col4\" >0.8687</td>\n",
       "      <td id=\"T_bf6b9_row2_col5\" class=\"data row2 col5\" >0.8763</td>\n",
       "      <td id=\"T_bf6b9_row2_col6\" class=\"data row2 col6\" >0.7182</td>\n",
       "      <td id=\"T_bf6b9_row2_col7\" class=\"data row2 col7\" >0.7216</td>\n",
       "      <td id=\"T_bf6b9_row2_col8\" class=\"data row2 col8\" >0.0960</td>\n",
       "    </tr>\n",
       "    <tr>\n",
       "      <th id=\"T_bf6b9_level0_row3\" class=\"row_heading level0 row3\" >ridge</th>\n",
       "      <td id=\"T_bf6b9_row3_col0\" class=\"data row3 col0\" >Ridge Classifier</td>\n",
       "      <td id=\"T_bf6b9_row3_col1\" class=\"data row3 col1\" >0.8584</td>\n",
       "      <td id=\"T_bf6b9_row3_col2\" class=\"data row3 col2\" >0.0000</td>\n",
       "      <td id=\"T_bf6b9_row3_col3\" class=\"data row3 col3\" >0.8926</td>\n",
       "      <td id=\"T_bf6b9_row3_col4\" class=\"data row3 col4\" >0.8615</td>\n",
       "      <td id=\"T_bf6b9_row3_col5\" class=\"data row3 col5\" >0.8752</td>\n",
       "      <td id=\"T_bf6b9_row3_col6\" class=\"data row3 col6\" >0.7114</td>\n",
       "      <td id=\"T_bf6b9_row3_col7\" class=\"data row3 col7\" >0.7155</td>\n",
       "      <td id=\"T_bf6b9_row3_col8\" class=\"data row3 col8\" >0.0290</td>\n",
       "    </tr>\n",
       "    <tr>\n",
       "      <th id=\"T_bf6b9_level0_row4\" class=\"row_heading level0 row4\" >lda</th>\n",
       "      <td id=\"T_bf6b9_row4_col0\" class=\"data row4 col0\" >Linear Discriminant Analysis</td>\n",
       "      <td id=\"T_bf6b9_row4_col1\" class=\"data row4 col1\" >0.8584</td>\n",
       "      <td id=\"T_bf6b9_row4_col2\" class=\"data row4 col2\" >0.9222</td>\n",
       "      <td id=\"T_bf6b9_row4_col3\" class=\"data row4 col3\" >0.8926</td>\n",
       "      <td id=\"T_bf6b9_row4_col4\" class=\"data row4 col4\" >0.8615</td>\n",
       "      <td id=\"T_bf6b9_row4_col5\" class=\"data row4 col5\" >0.8752</td>\n",
       "      <td id=\"T_bf6b9_row4_col6\" class=\"data row4 col6\" >0.7114</td>\n",
       "      <td id=\"T_bf6b9_row4_col7\" class=\"data row4 col7\" >0.7155</td>\n",
       "      <td id=\"T_bf6b9_row4_col8\" class=\"data row4 col8\" >0.0410</td>\n",
       "    </tr>\n",
       "    <tr>\n",
       "      <th id=\"T_bf6b9_level0_row5\" class=\"row_heading level0 row5\" >gbc</th>\n",
       "      <td id=\"T_bf6b9_row5_col0\" class=\"data row5 col0\" >Gradient Boosting Classifier</td>\n",
       "      <td id=\"T_bf6b9_row5_col1\" class=\"data row5 col1\" >0.8567</td>\n",
       "      <td id=\"T_bf6b9_row5_col2\" class=\"data row5 col2\" >0.9315</td>\n",
       "      <td id=\"T_bf6b9_row5_col3\" class=\"data row5 col3\" >0.8733</td>\n",
       "      <td id=\"T_bf6b9_row5_col4\" class=\"data row5 col4\" >0.8714</td>\n",
       "      <td id=\"T_bf6b9_row5_col5\" class=\"data row5 col5\" >0.8712</td>\n",
       "      <td id=\"T_bf6b9_row5_col6\" class=\"data row5 col6\" >0.7096</td>\n",
       "      <td id=\"T_bf6b9_row5_col7\" class=\"data row5 col7\" >0.7119</td>\n",
       "      <td id=\"T_bf6b9_row5_col8\" class=\"data row5 col8\" >0.0700</td>\n",
       "    </tr>\n",
       "    <tr>\n",
       "      <th id=\"T_bf6b9_level0_row6\" class=\"row_heading level0 row6\" >lr</th>\n",
       "      <td id=\"T_bf6b9_row6_col0\" class=\"data row6 col0\" >Logistic Regression</td>\n",
       "      <td id=\"T_bf6b9_row6_col1\" class=\"data row6 col1\" >0.8536</td>\n",
       "      <td id=\"T_bf6b9_row6_col2\" class=\"data row6 col2\" >0.9237</td>\n",
       "      <td id=\"T_bf6b9_row6_col3\" class=\"data row6 col3\" >0.8898</td>\n",
       "      <td id=\"T_bf6b9_row6_col4\" class=\"data row6 col4\" >0.8565</td>\n",
       "      <td id=\"T_bf6b9_row6_col5\" class=\"data row6 col5\" >0.8713</td>\n",
       "      <td id=\"T_bf6b9_row6_col6\" class=\"data row6 col6\" >0.7017</td>\n",
       "      <td id=\"T_bf6b9_row6_col7\" class=\"data row6 col7\" >0.7058</td>\n",
       "      <td id=\"T_bf6b9_row6_col8\" class=\"data row6 col8\" >0.4230</td>\n",
       "    </tr>\n",
       "    <tr>\n",
       "      <th id=\"T_bf6b9_level0_row7\" class=\"row_heading level0 row7\" >et</th>\n",
       "      <td id=\"T_bf6b9_row7_col0\" class=\"data row7 col0\" >Extra Trees Classifier</td>\n",
       "      <td id=\"T_bf6b9_row7_col1\" class=\"data row7 col1\" >0.8490</td>\n",
       "      <td id=\"T_bf6b9_row7_col2\" class=\"data row7 col2\" >0.9133</td>\n",
       "      <td id=\"T_bf6b9_row7_col3\" class=\"data row7 col3\" >0.8788</td>\n",
       "      <td id=\"T_bf6b9_row7_col4\" class=\"data row7 col4\" >0.8563</td>\n",
       "      <td id=\"T_bf6b9_row7_col5\" class=\"data row7 col5\" >0.8662</td>\n",
       "      <td id=\"T_bf6b9_row7_col6\" class=\"data row7 col6\" >0.6928</td>\n",
       "      <td id=\"T_bf6b9_row7_col7\" class=\"data row7 col7\" >0.6958</td>\n",
       "      <td id=\"T_bf6b9_row7_col8\" class=\"data row7 col8\" >0.0870</td>\n",
       "    </tr>\n",
       "    <tr>\n",
       "      <th id=\"T_bf6b9_level0_row8\" class=\"row_heading level0 row8\" >ada</th>\n",
       "      <td id=\"T_bf6b9_row8_col0\" class=\"data row8 col0\" >Ada Boost Classifier</td>\n",
       "      <td id=\"T_bf6b9_row8_col1\" class=\"data row8 col1\" >0.8427</td>\n",
       "      <td id=\"T_bf6b9_row8_col2\" class=\"data row8 col2\" >0.9088</td>\n",
       "      <td id=\"T_bf6b9_row8_col3\" class=\"data row8 col3\" >0.8733</td>\n",
       "      <td id=\"T_bf6b9_row8_col4\" class=\"data row8 col4\" >0.8513</td>\n",
       "      <td id=\"T_bf6b9_row8_col5\" class=\"data row8 col5\" >0.8604</td>\n",
       "      <td id=\"T_bf6b9_row8_col6\" class=\"data row8 col6\" >0.6803</td>\n",
       "      <td id=\"T_bf6b9_row8_col7\" class=\"data row8 col7\" >0.6842</td>\n",
       "      <td id=\"T_bf6b9_row8_col8\" class=\"data row8 col8\" >0.0510</td>\n",
       "    </tr>\n",
       "    <tr>\n",
       "      <th id=\"T_bf6b9_level0_row9\" class=\"row_heading level0 row9\" >nb</th>\n",
       "      <td id=\"T_bf6b9_row9_col0\" class=\"data row9 col0\" >Naive Bayes</td>\n",
       "      <td id=\"T_bf6b9_row9_col1\" class=\"data row9 col1\" >0.8115</td>\n",
       "      <td id=\"T_bf6b9_row9_col2\" class=\"data row9 col2\" >0.9128</td>\n",
       "      <td id=\"T_bf6b9_row9_col3\" class=\"data row9 col3\" >0.7238</td>\n",
       "      <td id=\"T_bf6b9_row9_col4\" class=\"data row9 col4\" >0.9224</td>\n",
       "      <td id=\"T_bf6b9_row9_col5\" class=\"data row9 col5\" >0.8097</td>\n",
       "      <td id=\"T_bf6b9_row9_col6\" class=\"data row9 col6\" >0.6278</td>\n",
       "      <td id=\"T_bf6b9_row9_col7\" class=\"data row9 col7\" >0.6477</td>\n",
       "      <td id=\"T_bf6b9_row9_col8\" class=\"data row9 col8\" >0.0370</td>\n",
       "    </tr>\n",
       "    <tr>\n",
       "      <th id=\"T_bf6b9_level0_row10\" class=\"row_heading level0 row10\" >dt</th>\n",
       "      <td id=\"T_bf6b9_row10_col0\" class=\"data row10 col0\" >Decision Tree Classifier</td>\n",
       "      <td id=\"T_bf6b9_row10_col1\" class=\"data row10 col1\" >0.7820</td>\n",
       "      <td id=\"T_bf6b9_row10_col2\" class=\"data row10 col2\" >0.7816</td>\n",
       "      <td id=\"T_bf6b9_row10_col3\" class=\"data row10 col3\" >0.7863</td>\n",
       "      <td id=\"T_bf6b9_row10_col4\" class=\"data row10 col4\" >0.8168</td>\n",
       "      <td id=\"T_bf6b9_row10_col5\" class=\"data row10 col5\" >0.7987</td>\n",
       "      <td id=\"T_bf6b9_row10_col6\" class=\"data row10 col6\" >0.5609</td>\n",
       "      <td id=\"T_bf6b9_row10_col7\" class=\"data row10 col7\" >0.5651</td>\n",
       "      <td id=\"T_bf6b9_row10_col8\" class=\"data row10 col8\" >0.0370</td>\n",
       "    </tr>\n",
       "    <tr>\n",
       "      <th id=\"T_bf6b9_level0_row11\" class=\"row_heading level0 row11\" >knn</th>\n",
       "      <td id=\"T_bf6b9_row11_col0\" class=\"data row11 col0\" >K Neighbors Classifier</td>\n",
       "      <td id=\"T_bf6b9_row11_col1\" class=\"data row11 col1\" >0.6838</td>\n",
       "      <td id=\"T_bf6b9_row11_col2\" class=\"data row11 col2\" >0.7224</td>\n",
       "      <td id=\"T_bf6b9_row11_col3\" class=\"data row11 col3\" >0.7377</td>\n",
       "      <td id=\"T_bf6b9_row11_col4\" class=\"data row11 col4\" >0.7051</td>\n",
       "      <td id=\"T_bf6b9_row11_col5\" class=\"data row11 col5\" >0.7193</td>\n",
       "      <td id=\"T_bf6b9_row11_col6\" class=\"data row11 col6\" >0.3565</td>\n",
       "      <td id=\"T_bf6b9_row11_col7\" class=\"data row11 col7\" >0.3603</td>\n",
       "      <td id=\"T_bf6b9_row11_col8\" class=\"data row11 col8\" >0.2260</td>\n",
       "    </tr>\n",
       "    <tr>\n",
       "      <th id=\"T_bf6b9_level0_row12\" class=\"row_heading level0 row12\" >svm</th>\n",
       "      <td id=\"T_bf6b9_row12_col0\" class=\"data row12 col0\" >SVM - Linear Kernel</td>\n",
       "      <td id=\"T_bf6b9_row12_col1\" class=\"data row12 col1\" >0.6139</td>\n",
       "      <td id=\"T_bf6b9_row12_col2\" class=\"data row12 col2\" >0.0000</td>\n",
       "      <td id=\"T_bf6b9_row12_col3\" class=\"data row12 col3\" >0.7580</td>\n",
       "      <td id=\"T_bf6b9_row12_col4\" class=\"data row12 col4\" >0.6887</td>\n",
       "      <td id=\"T_bf6b9_row12_col5\" class=\"data row12 col5\" >0.6586</td>\n",
       "      <td id=\"T_bf6b9_row12_col6\" class=\"data row12 col6\" >0.1904</td>\n",
       "      <td id=\"T_bf6b9_row12_col7\" class=\"data row12 col7\" >0.2287</td>\n",
       "      <td id=\"T_bf6b9_row12_col8\" class=\"data row12 col8\" >0.0290</td>\n",
       "    </tr>\n",
       "    <tr>\n",
       "      <th id=\"T_bf6b9_level0_row13\" class=\"row_heading level0 row13\" >dummy</th>\n",
       "      <td id=\"T_bf6b9_row13_col0\" class=\"data row13 col0\" >Dummy Classifier</td>\n",
       "      <td id=\"T_bf6b9_row13_col1\" class=\"data row13 col1\" >0.5530</td>\n",
       "      <td id=\"T_bf6b9_row13_col2\" class=\"data row13 col2\" >0.5000</td>\n",
       "      <td id=\"T_bf6b9_row13_col3\" class=\"data row13 col3\" >1.0000</td>\n",
       "      <td id=\"T_bf6b9_row13_col4\" class=\"data row13 col4\" >0.5530</td>\n",
       "      <td id=\"T_bf6b9_row13_col5\" class=\"data row13 col5\" >0.7121</td>\n",
       "      <td id=\"T_bf6b9_row13_col6\" class=\"data row13 col6\" >0.0000</td>\n",
       "      <td id=\"T_bf6b9_row13_col7\" class=\"data row13 col7\" >0.0000</td>\n",
       "      <td id=\"T_bf6b9_row13_col8\" class=\"data row13 col8\" >0.0430</td>\n",
       "    </tr>\n",
       "    <tr>\n",
       "      <th id=\"T_bf6b9_level0_row14\" class=\"row_heading level0 row14\" >qda</th>\n",
       "      <td id=\"T_bf6b9_row14_col0\" class=\"data row14 col0\" >Quadratic Discriminant Analysis</td>\n",
       "      <td id=\"T_bf6b9_row14_col1\" class=\"data row14 col1\" >0.4470</td>\n",
       "      <td id=\"T_bf6b9_row14_col2\" class=\"data row14 col2\" >0.0000</td>\n",
       "      <td id=\"T_bf6b9_row14_col3\" class=\"data row14 col3\" >0.0000</td>\n",
       "      <td id=\"T_bf6b9_row14_col4\" class=\"data row14 col4\" >0.0000</td>\n",
       "      <td id=\"T_bf6b9_row14_col5\" class=\"data row14 col5\" >0.0000</td>\n",
       "      <td id=\"T_bf6b9_row14_col6\" class=\"data row14 col6\" >0.0000</td>\n",
       "      <td id=\"T_bf6b9_row14_col7\" class=\"data row14 col7\" >0.0000</td>\n",
       "      <td id=\"T_bf6b9_row14_col8\" class=\"data row14 col8\" >0.0390</td>\n",
       "    </tr>\n",
       "  </tbody>\n",
       "</table>\n"
      ],
      "text/plain": [
       "<pandas.io.formats.style.Styler at 0x18dd9223b50>"
      ]
     },
     "metadata": {},
     "output_type": "display_data"
    },
    {
     "data": {
      "application/vnd.jupyter.widget-view+json": {
       "model_id": "",
       "version_major": 2,
       "version_minor": 0
      },
      "text/plain": [
       "Processing:   0%|          | 0/65 [00:00<?, ?it/s]"
      ]
     },
     "metadata": {},
     "output_type": "display_data"
    }
   ],
   "source": [
    "best = s.compare_models()"
   ]
  },
  {
   "cell_type": "code",
   "execution_count": 22,
   "id": "8420f75a",
   "metadata": {},
   "outputs": [
    {
     "data": {
      "text/plain": [
       "<catboost.core.CatBoostClassifier at 0x18ddbd88610>"
      ]
     },
     "execution_count": 22,
     "metadata": {},
     "output_type": "execute_result"
    }
   ],
   "source": [
    "best"
   ]
  },
  {
   "cell_type": "code",
   "execution_count": 23,
   "id": "73d0e7b7",
   "metadata": {},
   "outputs": [
    {
     "data": {
      "text/html": [],
      "text/plain": [
       "<IPython.core.display.HTML object>"
      ]
     },
     "metadata": {},
     "output_type": "display_data"
    },
    {
     "data": {
      "text/html": [
       "<style type=\"text/css\">\n",
       "#T_f08c8_row10_col0, #T_f08c8_row10_col1, #T_f08c8_row10_col2, #T_f08c8_row10_col3, #T_f08c8_row10_col4, #T_f08c8_row10_col5, #T_f08c8_row10_col6 {\n",
       "  background: yellow;\n",
       "}\n",
       "</style>\n",
       "<table id=\"T_f08c8\">\n",
       "  <thead>\n",
       "    <tr>\n",
       "      <th class=\"blank level0\" >&nbsp;</th>\n",
       "      <th id=\"T_f08c8_level0_col0\" class=\"col_heading level0 col0\" >Accuracy</th>\n",
       "      <th id=\"T_f08c8_level0_col1\" class=\"col_heading level0 col1\" >AUC</th>\n",
       "      <th id=\"T_f08c8_level0_col2\" class=\"col_heading level0 col2\" >Recall</th>\n",
       "      <th id=\"T_f08c8_level0_col3\" class=\"col_heading level0 col3\" >Prec.</th>\n",
       "      <th id=\"T_f08c8_level0_col4\" class=\"col_heading level0 col4\" >F1</th>\n",
       "      <th id=\"T_f08c8_level0_col5\" class=\"col_heading level0 col5\" >Kappa</th>\n",
       "      <th id=\"T_f08c8_level0_col6\" class=\"col_heading level0 col6\" >MCC</th>\n",
       "    </tr>\n",
       "    <tr>\n",
       "      <th class=\"index_name level0\" >Fold</th>\n",
       "      <th class=\"blank col0\" >&nbsp;</th>\n",
       "      <th class=\"blank col1\" >&nbsp;</th>\n",
       "      <th class=\"blank col2\" >&nbsp;</th>\n",
       "      <th class=\"blank col3\" >&nbsp;</th>\n",
       "      <th class=\"blank col4\" >&nbsp;</th>\n",
       "      <th class=\"blank col5\" >&nbsp;</th>\n",
       "      <th class=\"blank col6\" >&nbsp;</th>\n",
       "    </tr>\n",
       "  </thead>\n",
       "  <tbody>\n",
       "    <tr>\n",
       "      <th id=\"T_f08c8_level0_row0\" class=\"row_heading level0 row0\" >0</th>\n",
       "      <td id=\"T_f08c8_row0_col0\" class=\"data row0 col0\" >0.8769</td>\n",
       "      <td id=\"T_f08c8_row0_col1\" class=\"data row0 col1\" >0.9483</td>\n",
       "      <td id=\"T_f08c8_row0_col2\" class=\"data row0 col2\" >0.9444</td>\n",
       "      <td id=\"T_f08c8_row0_col3\" class=\"data row0 col3\" >0.8500</td>\n",
       "      <td id=\"T_f08c8_row0_col4\" class=\"data row0 col4\" >0.8947</td>\n",
       "      <td id=\"T_f08c8_row0_col5\" class=\"data row0 col5\" >0.7476</td>\n",
       "      <td id=\"T_f08c8_row0_col6\" class=\"data row0 col6\" >0.7536</td>\n",
       "    </tr>\n",
       "    <tr>\n",
       "      <th id=\"T_f08c8_level0_row1\" class=\"row_heading level0 row1\" >1</th>\n",
       "      <td id=\"T_f08c8_row1_col0\" class=\"data row1 col0\" >0.8769</td>\n",
       "      <td id=\"T_f08c8_row1_col1\" class=\"data row1 col1\" >0.9330</td>\n",
       "      <td id=\"T_f08c8_row1_col2\" class=\"data row1 col2\" >0.9722</td>\n",
       "      <td id=\"T_f08c8_row1_col3\" class=\"data row1 col3\" >0.8333</td>\n",
       "      <td id=\"T_f08c8_row1_col4\" class=\"data row1 col4\" >0.8974</td>\n",
       "      <td id=\"T_f08c8_row1_col5\" class=\"data row1 col5\" >0.7458</td>\n",
       "      <td id=\"T_f08c8_row1_col6\" class=\"data row1 col6\" >0.7598</td>\n",
       "    </tr>\n",
       "    <tr>\n",
       "      <th id=\"T_f08c8_level0_row2\" class=\"row_heading level0 row2\" >2</th>\n",
       "      <td id=\"T_f08c8_row2_col0\" class=\"data row2 col0\" >0.8438</td>\n",
       "      <td id=\"T_f08c8_row2_col1\" class=\"data row2 col1\" >0.8640</td>\n",
       "      <td id=\"T_f08c8_row2_col2\" class=\"data row2 col2\" >0.9429</td>\n",
       "      <td id=\"T_f08c8_row2_col3\" class=\"data row2 col3\" >0.8049</td>\n",
       "      <td id=\"T_f08c8_row2_col4\" class=\"data row2 col4\" >0.8684</td>\n",
       "      <td id=\"T_f08c8_row2_col5\" class=\"data row2 col5\" >0.6790</td>\n",
       "      <td id=\"T_f08c8_row2_col6\" class=\"data row2 col6\" >0.6920</td>\n",
       "    </tr>\n",
       "    <tr>\n",
       "      <th id=\"T_f08c8_level0_row3\" class=\"row_heading level0 row3\" >3</th>\n",
       "      <td id=\"T_f08c8_row3_col0\" class=\"data row3 col0\" >0.8594</td>\n",
       "      <td id=\"T_f08c8_row3_col1\" class=\"data row3 col1\" >0.9419</td>\n",
       "      <td id=\"T_f08c8_row3_col2\" class=\"data row3 col2\" >0.8571</td>\n",
       "      <td id=\"T_f08c8_row3_col3\" class=\"data row3 col3\" >0.8824</td>\n",
       "      <td id=\"T_f08c8_row3_col4\" class=\"data row3 col4\" >0.8696</td>\n",
       "      <td id=\"T_f08c8_row3_col5\" class=\"data row3 col5\" >0.7171</td>\n",
       "      <td id=\"T_f08c8_row3_col6\" class=\"data row3 col6\" >0.7174</td>\n",
       "    </tr>\n",
       "    <tr>\n",
       "      <th id=\"T_f08c8_level0_row4\" class=\"row_heading level0 row4\" >4</th>\n",
       "      <td id=\"T_f08c8_row4_col0\" class=\"data row4 col0\" >0.8594</td>\n",
       "      <td id=\"T_f08c8_row4_col1\" class=\"data row4 col1\" >0.9537</td>\n",
       "      <td id=\"T_f08c8_row4_col2\" class=\"data row4 col2\" >0.8857</td>\n",
       "      <td id=\"T_f08c8_row4_col3\" class=\"data row4 col3\" >0.8611</td>\n",
       "      <td id=\"T_f08c8_row4_col4\" class=\"data row4 col4\" >0.8732</td>\n",
       "      <td id=\"T_f08c8_row4_col5\" class=\"data row4 col5\" >0.7154</td>\n",
       "      <td id=\"T_f08c8_row4_col6\" class=\"data row4 col6\" >0.7158</td>\n",
       "    </tr>\n",
       "    <tr>\n",
       "      <th id=\"T_f08c8_level0_row5\" class=\"row_heading level0 row5\" >5</th>\n",
       "      <td id=\"T_f08c8_row5_col0\" class=\"data row5 col0\" >0.8906</td>\n",
       "      <td id=\"T_f08c8_row5_col1\" class=\"data row5 col1\" >0.9645</td>\n",
       "      <td id=\"T_f08c8_row5_col2\" class=\"data row5 col2\" >0.8857</td>\n",
       "      <td id=\"T_f08c8_row5_col3\" class=\"data row5 col3\" >0.9118</td>\n",
       "      <td id=\"T_f08c8_row5_col4\" class=\"data row5 col4\" >0.8986</td>\n",
       "      <td id=\"T_f08c8_row5_col5\" class=\"data row5 col5\" >0.7800</td>\n",
       "      <td id=\"T_f08c8_row5_col6\" class=\"data row5 col6\" >0.7803</td>\n",
       "    </tr>\n",
       "    <tr>\n",
       "      <th id=\"T_f08c8_level0_row6\" class=\"row_heading level0 row6\" >6</th>\n",
       "      <td id=\"T_f08c8_row6_col0\" class=\"data row6 col0\" >0.9062</td>\n",
       "      <td id=\"T_f08c8_row6_col1\" class=\"data row6 col1\" >0.9458</td>\n",
       "      <td id=\"T_f08c8_row6_col2\" class=\"data row6 col2\" >0.8857</td>\n",
       "      <td id=\"T_f08c8_row6_col3\" class=\"data row6 col3\" >0.9394</td>\n",
       "      <td id=\"T_f08c8_row6_col4\" class=\"data row6 col4\" >0.9118</td>\n",
       "      <td id=\"T_f08c8_row6_col5\" class=\"data row6 col5\" >0.8119</td>\n",
       "      <td id=\"T_f08c8_row6_col6\" class=\"data row6 col6\" >0.8135</td>\n",
       "    </tr>\n",
       "    <tr>\n",
       "      <th id=\"T_f08c8_level0_row7\" class=\"row_heading level0 row7\" >7</th>\n",
       "      <td id=\"T_f08c8_row7_col0\" class=\"data row7 col0\" >0.8438</td>\n",
       "      <td id=\"T_f08c8_row7_col1\" class=\"data row7 col1\" >0.9375</td>\n",
       "      <td id=\"T_f08c8_row7_col2\" class=\"data row7 col2\" >0.8611</td>\n",
       "      <td id=\"T_f08c8_row7_col3\" class=\"data row7 col3\" >0.8611</td>\n",
       "      <td id=\"T_f08c8_row7_col4\" class=\"data row7 col4\" >0.8611</td>\n",
       "      <td id=\"T_f08c8_row7_col5\" class=\"data row7 col5\" >0.6825</td>\n",
       "      <td id=\"T_f08c8_row7_col6\" class=\"data row7 col6\" >0.6825</td>\n",
       "    </tr>\n",
       "    <tr>\n",
       "      <th id=\"T_f08c8_level0_row8\" class=\"row_heading level0 row8\" >8</th>\n",
       "      <td id=\"T_f08c8_row8_col0\" class=\"data row8 col0\" >0.9219</td>\n",
       "      <td id=\"T_f08c8_row8_col1\" class=\"data row8 col1\" >0.9563</td>\n",
       "      <td id=\"T_f08c8_row8_col2\" class=\"data row8 col2\" >0.9444</td>\n",
       "      <td id=\"T_f08c8_row8_col3\" class=\"data row8 col3\" >0.9189</td>\n",
       "      <td id=\"T_f08c8_row8_col4\" class=\"data row8 col4\" >0.9315</td>\n",
       "      <td id=\"T_f08c8_row8_col5\" class=\"data row8 col5\" >0.8406</td>\n",
       "      <td id=\"T_f08c8_row8_col6\" class=\"data row8 col6\" >0.8411</td>\n",
       "    </tr>\n",
       "    <tr>\n",
       "      <th id=\"T_f08c8_level0_row9\" class=\"row_heading level0 row9\" >9</th>\n",
       "      <td id=\"T_f08c8_row9_col0\" class=\"data row9 col0\" >0.8281</td>\n",
       "      <td id=\"T_f08c8_row9_col1\" class=\"data row9 col1\" >0.8571</td>\n",
       "      <td id=\"T_f08c8_row9_col2\" class=\"data row9 col2\" >0.9167</td>\n",
       "      <td id=\"T_f08c8_row9_col3\" class=\"data row9 col3\" >0.8049</td>\n",
       "      <td id=\"T_f08c8_row9_col4\" class=\"data row9 col4\" >0.8571</td>\n",
       "      <td id=\"T_f08c8_row9_col5\" class=\"data row9 col5\" >0.6437</td>\n",
       "      <td id=\"T_f08c8_row9_col6\" class=\"data row9 col6\" >0.6523</td>\n",
       "    </tr>\n",
       "    <tr>\n",
       "      <th id=\"T_f08c8_level0_row10\" class=\"row_heading level0 row10\" >Mean</th>\n",
       "      <td id=\"T_f08c8_row10_col0\" class=\"data row10 col0\" >0.8707</td>\n",
       "      <td id=\"T_f08c8_row10_col1\" class=\"data row10 col1\" >0.9302</td>\n",
       "      <td id=\"T_f08c8_row10_col2\" class=\"data row10 col2\" >0.9096</td>\n",
       "      <td id=\"T_f08c8_row10_col3\" class=\"data row10 col3\" >0.8668</td>\n",
       "      <td id=\"T_f08c8_row10_col4\" class=\"data row10 col4\" >0.8863</td>\n",
       "      <td id=\"T_f08c8_row10_col5\" class=\"data row10 col5\" >0.7364</td>\n",
       "      <td id=\"T_f08c8_row10_col6\" class=\"data row10 col6\" >0.7408</td>\n",
       "    </tr>\n",
       "    <tr>\n",
       "      <th id=\"T_f08c8_level0_row11\" class=\"row_heading level0 row11\" >Std</th>\n",
       "      <td id=\"T_f08c8_row11_col0\" class=\"data row11 col0\" >0.0281</td>\n",
       "      <td id=\"T_f08c8_row11_col1\" class=\"data row11 col1\" >0.0359</td>\n",
       "      <td id=\"T_f08c8_row11_col2\" class=\"data row11 col2\" >0.0378</td>\n",
       "      <td id=\"T_f08c8_row11_col3\" class=\"data row11 col3\" >0.0440</td>\n",
       "      <td id=\"T_f08c8_row11_col4\" class=\"data row11 col4\" >0.0230</td>\n",
       "      <td id=\"T_f08c8_row11_col5\" class=\"data row11 col5\" >0.0585</td>\n",
       "      <td id=\"T_f08c8_row11_col6\" class=\"data row11 col6\" >0.0568</td>\n",
       "    </tr>\n",
       "  </tbody>\n",
       "</table>\n"
      ],
      "text/plain": [
       "<pandas.io.formats.style.Styler at 0x18dd3e2ab30>"
      ]
     },
     "metadata": {},
     "output_type": "display_data"
    },
    {
     "data": {
      "application/vnd.jupyter.widget-view+json": {
       "model_id": "",
       "version_major": 2,
       "version_minor": 0
      },
      "text/plain": [
       "Processing:   0%|          | 0/7 [00:00<?, ?it/s]"
      ]
     },
     "metadata": {},
     "output_type": "display_data"
    },
    {
     "name": "stdout",
     "output_type": "stream",
     "text": [
      "Fitting 10 folds for each of 10 candidates, totalling 100 fits\n",
      "Original model was better than the tuned model, hence it will be returned. NOTE: The display metrics are for the tuned model (not the original one).\n"
     ]
    }
   ],
   "source": [
    "tuned = tune_model(best)"
   ]
  },
  {
   "cell_type": "code",
   "execution_count": 18,
   "id": "013c1cce",
   "metadata": {},
   "outputs": [
    {
     "data": {
      "application/vnd.jupyter.widget-view+json": {
       "model_id": "b9990a917ae84617b6895367a380d020",
       "version_major": 2,
       "version_minor": 0
      },
      "text/plain": [
       "interactive(children=(ToggleButtons(description='Plot Type:', icons=('',), options=(('Pipeline Plot', 'pipelin…"
      ]
     },
     "metadata": {},
     "output_type": "display_data"
    }
   ],
   "source": [
    "s.evaluate_model(best)"
   ]
  },
  {
   "cell_type": "code",
   "execution_count": 20,
   "id": "60c2cad1",
   "metadata": {},
   "outputs": [
    {
     "data": {
      "text/html": [],
      "text/plain": [
       "<IPython.core.display.HTML object>"
      ]
     },
     "metadata": {},
     "output_type": "display_data"
    },
    {
     "data": {
      "image/png": "[encoded data removed]",
      "text/plain": [
       "<Figure size 800x550 with 1 Axes>"
      ]
     },
     "metadata": {},
     "output_type": "display_data"
    }
   ],
   "source": [
    "s.plot_model(best, plot = 'auc')"
   ]
  },
  {
   "cell_type": "code",
   "execution_count": 21,
   "id": "b7e320a2",
   "metadata": {},
   "outputs": [
    {
     "data": {
      "text/html": [],
      "text/plain": [
       "<IPython.core.display.HTML object>"
      ]
     },
     "metadata": {},
     "output_type": "display_data"
    },
    {
     "data": {
      "image/png": "[encoded data removed]",
      "text/plain": [
       "<Figure size 800x550 with 1 Axes>"
      ]
     },
     "metadata": {},
     "output_type": "display_data"
    }
   ],
   "source": [
    "s.plot_model(best, plot = 'confusion_matrix')"
   ]
  },
  {
   "cell_type": "code",
   "execution_count": null,
   "id": "ab763fb9",
   "metadata": {},
   "outputs": [],
   "source": []
  }
 ],
 "metadata": {
  "kernelspec": {
   "display_name": "Python 3 (ipykernel)",
   "language": "python",
   "name": "python3"
  },
  "language_info": {
   "codemirror_mode": {
    "name": "ipython",
    "version": 3
   },
   "file_extension": ".py",
   "mimetype": "text/x-python",
   "name": "python",
   "nbconvert_exporter": "python",
   "pygments_lexer": "ipython3",
   "version": "3.10.9"
  }
 },
 "nbformat": 4,
 "nbformat_minor": 5
}
