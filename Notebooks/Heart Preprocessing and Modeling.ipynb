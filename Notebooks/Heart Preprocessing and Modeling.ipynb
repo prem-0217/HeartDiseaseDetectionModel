{
 "cells": [
  {
   "cell_type": "code",
   "execution_count": 1,
   "id": "7d33e68c",
   "metadata": {},
   "outputs": [],
   "source": [
    "import os\n",
    "import numpy as np\n",
    "import pandas as pd\n",
    "import matplotlib.pyplot as plt\n",
    "import seaborn as sns\n",
    "\n",
    "from sklearn.model_selection import train_test_split\n",
    "from sklearn.preprocessing import StandardScaler"
   ]
  },
  {
   "cell_type": "code",
   "execution_count": 2,
   "id": "3ee5c7e3",
   "metadata": {},
   "outputs": [
    {
     "data": {
      "text/html": [
       "<div>\n",
       "<style scoped>\n",
       "    .dataframe tbody tr th:only-of-type {\n",
       "        vertical-align: middle;\n",
       "    }\n",
       "\n",
       "    .dataframe tbody tr th {\n",
       "        vertical-align: top;\n",
       "    }\n",
       "\n",
       "    .dataframe thead th {\n",
       "        text-align: right;\n",
       "    }\n",
       "</style>\n",
       "<table border=\"1\" class=\"dataframe\">\n",
       "  <thead>\n",
       "    <tr style=\"text-align: right;\">\n",
       "      <th></th>\n",
       "      <th>Age</th>\n",
       "      <th>Sex</th>\n",
       "      <th>ChestPainType</th>\n",
       "      <th>RestingBP</th>\n",
       "      <th>Cholesterol</th>\n",
       "      <th>FastingBS</th>\n",
       "      <th>RestingECG</th>\n",
       "      <th>MaxHR</th>\n",
       "      <th>ExerciseAngina</th>\n",
       "      <th>Oldpeak</th>\n",
       "      <th>ST_Slope</th>\n",
       "      <th>HeartDisease</th>\n",
       "      <th>age_bin</th>\n",
       "      <th>hereditary</th>\n",
       "    </tr>\n",
       "  </thead>\n",
       "  <tbody>\n",
       "    <tr>\n",
       "      <th>0</th>\n",
       "      <td>40</td>\n",
       "      <td>M</td>\n",
       "      <td>ATA</td>\n",
       "      <td>140</td>\n",
       "      <td>289</td>\n",
       "      <td>0</td>\n",
       "      <td>Normal</td>\n",
       "      <td>172</td>\n",
       "      <td>N</td>\n",
       "      <td>0.0</td>\n",
       "      <td>Up</td>\n",
       "      <td>0</td>\n",
       "      <td>20-40</td>\n",
       "      <td>0</td>\n",
       "    </tr>\n",
       "    <tr>\n",
       "      <th>1</th>\n",
       "      <td>49</td>\n",
       "      <td>F</td>\n",
       "      <td>NAP</td>\n",
       "      <td>160</td>\n",
       "      <td>180</td>\n",
       "      <td>0</td>\n",
       "      <td>Normal</td>\n",
       "      <td>156</td>\n",
       "      <td>N</td>\n",
       "      <td>1.0</td>\n",
       "      <td>Flat</td>\n",
       "      <td>1</td>\n",
       "      <td>40-60</td>\n",
       "      <td>0</td>\n",
       "    </tr>\n",
       "    <tr>\n",
       "      <th>2</th>\n",
       "      <td>37</td>\n",
       "      <td>M</td>\n",
       "      <td>ATA</td>\n",
       "      <td>130</td>\n",
       "      <td>283</td>\n",
       "      <td>0</td>\n",
       "      <td>ST</td>\n",
       "      <td>98</td>\n",
       "      <td>N</td>\n",
       "      <td>0.0</td>\n",
       "      <td>Up</td>\n",
       "      <td>0</td>\n",
       "      <td>20-40</td>\n",
       "      <td>0</td>\n",
       "    </tr>\n",
       "    <tr>\n",
       "      <th>3</th>\n",
       "      <td>48</td>\n",
       "      <td>F</td>\n",
       "      <td>ASY</td>\n",
       "      <td>138</td>\n",
       "      <td>214</td>\n",
       "      <td>0</td>\n",
       "      <td>Normal</td>\n",
       "      <td>108</td>\n",
       "      <td>Y</td>\n",
       "      <td>1.5</td>\n",
       "      <td>Flat</td>\n",
       "      <td>1</td>\n",
       "      <td>40-60</td>\n",
       "      <td>0</td>\n",
       "    </tr>\n",
       "    <tr>\n",
       "      <th>4</th>\n",
       "      <td>54</td>\n",
       "      <td>M</td>\n",
       "      <td>NAP</td>\n",
       "      <td>150</td>\n",
       "      <td>195</td>\n",
       "      <td>0</td>\n",
       "      <td>Normal</td>\n",
       "      <td>122</td>\n",
       "      <td>N</td>\n",
       "      <td>0.0</td>\n",
       "      <td>Up</td>\n",
       "      <td>0</td>\n",
       "      <td>40-60</td>\n",
       "      <td>0</td>\n",
       "    </tr>\n",
       "  </tbody>\n",
       "</table>\n",
       "</div>"
      ],
      "text/plain": [
       "   Age Sex ChestPainType  RestingBP  Cholesterol  FastingBS RestingECG  MaxHR  \\\n",
       "0   40   M           ATA        140          289          0     Normal    172   \n",
       "1   49   F           NAP        160          180          0     Normal    156   \n",
       "2   37   M           ATA        130          283          0         ST     98   \n",
       "3   48   F           ASY        138          214          0     Normal    108   \n",
       "4   54   M           NAP        150          195          0     Normal    122   \n",
       "\n",
       "  ExerciseAngina  Oldpeak ST_Slope  HeartDisease age_bin  hereditary  \n",
       "0              N      0.0       Up             0   20-40           0  \n",
       "1              N      1.0     Flat             1   40-60           0  \n",
       "2              N      0.0       Up             0   20-40           0  \n",
       "3              Y      1.5     Flat             1   40-60           0  \n",
       "4              N      0.0       Up             0   40-60           0  "
      ]
     },
     "execution_count": 2,
     "metadata": {},
     "output_type": "execute_result"
    }
   ],
   "source": [
    "heart = pd.read_csv('../data/heart2.csv')\n",
    "heart.head()"
   ]
  },
  {
   "cell_type": "markdown",
   "id": "bc308935",
   "metadata": {},
   "source": [
    "### Create features and dummies, and then split and scale the data"
   ]
  },
  {
   "cell_type": "code",
   "execution_count": 3,
   "id": "d9a122f2",
   "metadata": {},
   "outputs": [],
   "source": [
    "feat = ['Age', 'Sex', 'ChestPainType', 'RestingBP', 'Cholesterol', 'FastingBS',\n",
    "       'RestingECG', 'MaxHR', 'ExerciseAngina', 'Oldpeak', 'ST_Slope', 'hereditary']\n",
    "X = heart[feat]\n",
    "y = heart.HeartDisease"
   ]
  },
  {
   "cell_type": "code",
   "execution_count": 4,
   "id": "b6813db6",
   "metadata": {},
   "outputs": [],
   "source": [
    "X = pd.get_dummies(X)\n",
    "X_train, X_test, y_train, y_test= train_test_split(X, y, test_size = 0.3)"
   ]
  },
  {
   "cell_type": "code",
   "execution_count": 5,
   "id": "d8d5a3e3",
   "metadata": {},
   "outputs": [],
   "source": [
    "scaler = StandardScaler()\n",
    "X_train_scaled=scaler.fit_transform(X_train)\n",
    "X_test_scaled=scaler.transform(X_test)"
   ]
  },
  {
   "cell_type": "markdown",
   "id": "d2b249ac",
   "metadata": {},
   "source": [
    "### Setup Pycaret classification model"
   ]
  },
  {
   "cell_type": "code",
   "execution_count": 6,
   "id": "876ee96a",
   "metadata": {},
   "outputs": [
    {
     "data": {
      "text/html": [
       "<style type=\"text/css\">\n",
       "#T_24f06_row10_col1 {\n",
       "  background-color: lightgreen;\n",
       "}\n",
       "</style>\n",
       "<table id=\"T_24f06\">\n",
       "  <thead>\n",
       "    <tr>\n",
       "      <th class=\"blank level0\" >&nbsp;</th>\n",
       "      <th id=\"T_24f06_level0_col0\" class=\"col_heading level0 col0\" >Description</th>\n",
       "      <th id=\"T_24f06_level0_col1\" class=\"col_heading level0 col1\" >Value</th>\n",
       "    </tr>\n",
       "  </thead>\n",
       "  <tbody>\n",
       "    <tr>\n",
       "      <th id=\"T_24f06_level0_row0\" class=\"row_heading level0 row0\" >0</th>\n",
       "      <td id=\"T_24f06_row0_col0\" class=\"data row0 col0\" >Session id</td>\n",
       "      <td id=\"T_24f06_row0_col1\" class=\"data row0 col1\" >1720</td>\n",
       "    </tr>\n",
       "    <tr>\n",
       "      <th id=\"T_24f06_level0_row1\" class=\"row_heading level0 row1\" >1</th>\n",
       "      <td id=\"T_24f06_row1_col0\" class=\"data row1 col0\" >Target</td>\n",
       "      <td id=\"T_24f06_row1_col1\" class=\"data row1 col1\" >HeartDisease</td>\n",
       "    </tr>\n",
       "    <tr>\n",
       "      <th id=\"T_24f06_level0_row2\" class=\"row_heading level0 row2\" >2</th>\n",
       "      <td id=\"T_24f06_row2_col0\" class=\"data row2 col0\" >Target type</td>\n",
       "      <td id=\"T_24f06_row2_col1\" class=\"data row2 col1\" >Binary</td>\n",
       "    </tr>\n",
       "    <tr>\n",
       "      <th id=\"T_24f06_level0_row3\" class=\"row_heading level0 row3\" >3</th>\n",
       "      <td id=\"T_24f06_row3_col0\" class=\"data row3 col0\" >Original data shape</td>\n",
       "      <td id=\"T_24f06_row3_col1\" class=\"data row3 col1\" >(918, 14)</td>\n",
       "    </tr>\n",
       "    <tr>\n",
       "      <th id=\"T_24f06_level0_row4\" class=\"row_heading level0 row4\" >4</th>\n",
       "      <td id=\"T_24f06_row4_col0\" class=\"data row4 col0\" >Transformed data shape</td>\n",
       "      <td id=\"T_24f06_row4_col1\" class=\"data row4 col1\" >(918, 23)</td>\n",
       "    </tr>\n",
       "    <tr>\n",
       "      <th id=\"T_24f06_level0_row5\" class=\"row_heading level0 row5\" >5</th>\n",
       "      <td id=\"T_24f06_row5_col0\" class=\"data row5 col0\" >Transformed train set shape</td>\n",
       "      <td id=\"T_24f06_row5_col1\" class=\"data row5 col1\" >(642, 23)</td>\n",
       "    </tr>\n",
       "    <tr>\n",
       "      <th id=\"T_24f06_level0_row6\" class=\"row_heading level0 row6\" >6</th>\n",
       "      <td id=\"T_24f06_row6_col0\" class=\"data row6 col0\" >Transformed test set shape</td>\n",
       "      <td id=\"T_24f06_row6_col1\" class=\"data row6 col1\" >(276, 23)</td>\n",
       "    </tr>\n",
       "    <tr>\n",
       "      <th id=\"T_24f06_level0_row7\" class=\"row_heading level0 row7\" >7</th>\n",
       "      <td id=\"T_24f06_row7_col0\" class=\"data row7 col0\" >Ordinal features</td>\n",
       "      <td id=\"T_24f06_row7_col1\" class=\"data row7 col1\" >2</td>\n",
       "    </tr>\n",
       "    <tr>\n",
       "      <th id=\"T_24f06_level0_row8\" class=\"row_heading level0 row8\" >8</th>\n",
       "      <td id=\"T_24f06_row8_col0\" class=\"data row8 col0\" >Numeric features</td>\n",
       "      <td id=\"T_24f06_row8_col1\" class=\"data row8 col1\" >7</td>\n",
       "    </tr>\n",
       "    <tr>\n",
       "      <th id=\"T_24f06_level0_row9\" class=\"row_heading level0 row9\" >9</th>\n",
       "      <td id=\"T_24f06_row9_col0\" class=\"data row9 col0\" >Categorical features</td>\n",
       "      <td id=\"T_24f06_row9_col1\" class=\"data row9 col1\" >6</td>\n",
       "    </tr>\n",
       "    <tr>\n",
       "      <th id=\"T_24f06_level0_row10\" class=\"row_heading level0 row10\" >10</th>\n",
       "      <td id=\"T_24f06_row10_col0\" class=\"data row10 col0\" >Preprocess</td>\n",
       "      <td id=\"T_24f06_row10_col1\" class=\"data row10 col1\" >True</td>\n",
       "    </tr>\n",
       "    <tr>\n",
       "      <th id=\"T_24f06_level0_row11\" class=\"row_heading level0 row11\" >11</th>\n",
       "      <td id=\"T_24f06_row11_col0\" class=\"data row11 col0\" >Imputation type</td>\n",
       "      <td id=\"T_24f06_row11_col1\" class=\"data row11 col1\" >simple</td>\n",
       "    </tr>\n",
       "    <tr>\n",
       "      <th id=\"T_24f06_level0_row12\" class=\"row_heading level0 row12\" >12</th>\n",
       "      <td id=\"T_24f06_row12_col0\" class=\"data row12 col0\" >Numeric imputation</td>\n",
       "      <td id=\"T_24f06_row12_col1\" class=\"data row12 col1\" >mean</td>\n",
       "    </tr>\n",
       "    <tr>\n",
       "      <th id=\"T_24f06_level0_row13\" class=\"row_heading level0 row13\" >13</th>\n",
       "      <td id=\"T_24f06_row13_col0\" class=\"data row13 col0\" >Categorical imputation</td>\n",
       "      <td id=\"T_24f06_row13_col1\" class=\"data row13 col1\" >mode</td>\n",
       "    </tr>\n",
       "    <tr>\n",
       "      <th id=\"T_24f06_level0_row14\" class=\"row_heading level0 row14\" >14</th>\n",
       "      <td id=\"T_24f06_row14_col0\" class=\"data row14 col0\" >Maximum one-hot encoding</td>\n",
       "      <td id=\"T_24f06_row14_col1\" class=\"data row14 col1\" >25</td>\n",
       "    </tr>\n",
       "    <tr>\n",
       "      <th id=\"T_24f06_level0_row15\" class=\"row_heading level0 row15\" >15</th>\n",
       "      <td id=\"T_24f06_row15_col0\" class=\"data row15 col0\" >Encoding method</td>\n",
       "      <td id=\"T_24f06_row15_col1\" class=\"data row15 col1\" >None</td>\n",
       "    </tr>\n",
       "    <tr>\n",
       "      <th id=\"T_24f06_level0_row16\" class=\"row_heading level0 row16\" >16</th>\n",
       "      <td id=\"T_24f06_row16_col0\" class=\"data row16 col0\" >Fold Generator</td>\n",
       "      <td id=\"T_24f06_row16_col1\" class=\"data row16 col1\" >StratifiedKFold</td>\n",
       "    </tr>\n",
       "    <tr>\n",
       "      <th id=\"T_24f06_level0_row17\" class=\"row_heading level0 row17\" >17</th>\n",
       "      <td id=\"T_24f06_row17_col0\" class=\"data row17 col0\" >Fold Number</td>\n",
       "      <td id=\"T_24f06_row17_col1\" class=\"data row17 col1\" >10</td>\n",
       "    </tr>\n",
       "    <tr>\n",
       "      <th id=\"T_24f06_level0_row18\" class=\"row_heading level0 row18\" >18</th>\n",
       "      <td id=\"T_24f06_row18_col0\" class=\"data row18 col0\" >CPU Jobs</td>\n",
       "      <td id=\"T_24f06_row18_col1\" class=\"data row18 col1\" >-1</td>\n",
       "    </tr>\n",
       "    <tr>\n",
       "      <th id=\"T_24f06_level0_row19\" class=\"row_heading level0 row19\" >19</th>\n",
       "      <td id=\"T_24f06_row19_col0\" class=\"data row19 col0\" >Use GPU</td>\n",
       "      <td id=\"T_24f06_row19_col1\" class=\"data row19 col1\" >False</td>\n",
       "    </tr>\n",
       "    <tr>\n",
       "      <th id=\"T_24f06_level0_row20\" class=\"row_heading level0 row20\" >20</th>\n",
       "      <td id=\"T_24f06_row20_col0\" class=\"data row20 col0\" >Log Experiment</td>\n",
       "      <td id=\"T_24f06_row20_col1\" class=\"data row20 col1\" >False</td>\n",
       "    </tr>\n",
       "    <tr>\n",
       "      <th id=\"T_24f06_level0_row21\" class=\"row_heading level0 row21\" >21</th>\n",
       "      <td id=\"T_24f06_row21_col0\" class=\"data row21 col0\" >Experiment Name</td>\n",
       "      <td id=\"T_24f06_row21_col1\" class=\"data row21 col1\" >clf-default-name</td>\n",
       "    </tr>\n",
       "    <tr>\n",
       "      <th id=\"T_24f06_level0_row22\" class=\"row_heading level0 row22\" >22</th>\n",
       "      <td id=\"T_24f06_row22_col0\" class=\"data row22 col0\" >USI</td>\n",
       "      <td id=\"T_24f06_row22_col1\" class=\"data row22 col1\" >3fc5</td>\n",
       "    </tr>\n",
       "  </tbody>\n",
       "</table>\n"
      ],
      "text/plain": [
       "<pandas.io.formats.style.Styler at 0x190930938e0>"
      ]
     },
     "metadata": {},
     "output_type": "display_data"
    }
   ],
   "source": [
    "# import pycaret classification and init setup\n",
    "from pycaret.classification import *\n",
    "from pycaret.classification import ClassificationExperiment\n",
    "s = ClassificationExperiment()\n",
    "s = setup(heart, target = 'HeartDisease', session_id=1720)"
   ]
  },
  {
   "cell_type": "markdown",
   "id": "b19140cc",
   "metadata": {},
   "source": [
    "### Determine Optimal Model"
   ]
  },
  {
   "cell_type": "code",
   "execution_count": 7,
   "id": "0fe01535",
   "metadata": {},
   "outputs": [
    {
     "data": {
      "text/html": [],
      "text/plain": [
       "<IPython.core.display.HTML object>"
      ]
     },
     "metadata": {},
     "output_type": "display_data"
    },
    {
     "data": {
      "text/html": [
       "<style type=\"text/css\">\n",
       "#T_e2450 th {\n",
       "  text-align: left;\n",
       "}\n",
       "#T_e2450_row0_col0, #T_e2450_row0_col2, #T_e2450_row0_col3, #T_e2450_row0_col4, #T_e2450_row1_col0, #T_e2450_row1_col1, #T_e2450_row1_col2, #T_e2450_row1_col3, #T_e2450_row1_col4, #T_e2450_row1_col5, #T_e2450_row1_col6, #T_e2450_row1_col7, #T_e2450_row2_col0, #T_e2450_row2_col1, #T_e2450_row2_col3, #T_e2450_row2_col4, #T_e2450_row2_col5, #T_e2450_row2_col6, #T_e2450_row2_col7, #T_e2450_row3_col0, #T_e2450_row3_col1, #T_e2450_row3_col2, #T_e2450_row3_col3, #T_e2450_row3_col4, #T_e2450_row3_col5, #T_e2450_row3_col6, #T_e2450_row3_col7, #T_e2450_row4_col0, #T_e2450_row4_col1, #T_e2450_row4_col3, #T_e2450_row4_col4, #T_e2450_row4_col5, #T_e2450_row4_col6, #T_e2450_row4_col7, #T_e2450_row5_col0, #T_e2450_row5_col1, #T_e2450_row5_col2, #T_e2450_row5_col3, #T_e2450_row5_col4, #T_e2450_row5_col5, #T_e2450_row5_col6, #T_e2450_row5_col7, #T_e2450_row6_col0, #T_e2450_row6_col1, #T_e2450_row6_col2, #T_e2450_row6_col3, #T_e2450_row6_col4, #T_e2450_row6_col5, #T_e2450_row6_col6, #T_e2450_row6_col7, #T_e2450_row7_col0, #T_e2450_row7_col1, #T_e2450_row7_col2, #T_e2450_row7_col3, #T_e2450_row7_col4, #T_e2450_row7_col5, #T_e2450_row7_col6, #T_e2450_row7_col7, #T_e2450_row8_col0, #T_e2450_row8_col1, #T_e2450_row8_col2, #T_e2450_row8_col3, #T_e2450_row8_col4, #T_e2450_row8_col5, #T_e2450_row8_col6, #T_e2450_row8_col7, #T_e2450_row9_col0, #T_e2450_row9_col1, #T_e2450_row9_col2, #T_e2450_row9_col3, #T_e2450_row9_col5, #T_e2450_row9_col6, #T_e2450_row9_col7, #T_e2450_row10_col0, #T_e2450_row10_col1, #T_e2450_row10_col2, #T_e2450_row10_col3, #T_e2450_row10_col4, #T_e2450_row10_col5, #T_e2450_row10_col6, #T_e2450_row10_col7, #T_e2450_row11_col0, #T_e2450_row11_col1, #T_e2450_row11_col2, #T_e2450_row11_col3, #T_e2450_row11_col4, #T_e2450_row11_col5, #T_e2450_row11_col6, #T_e2450_row11_col7, #T_e2450_row12_col0, #T_e2450_row12_col1, #T_e2450_row12_col2, #T_e2450_row12_col3, #T_e2450_row12_col4, #T_e2450_row12_col5, #T_e2450_row12_col6, #T_e2450_row12_col7, #T_e2450_row13_col0, #T_e2450_row13_col1, #T_e2450_row13_col2, #T_e2450_row13_col4, #T_e2450_row13_col5, #T_e2450_row13_col6, #T_e2450_row13_col7, #T_e2450_row14_col0, #T_e2450_row14_col1, #T_e2450_row14_col2, #T_e2450_row14_col3, #T_e2450_row14_col4, #T_e2450_row14_col5, #T_e2450_row14_col6, #T_e2450_row14_col7 {\n",
       "  text-align: left;\n",
       "}\n",
       "#T_e2450_row0_col1, #T_e2450_row0_col5, #T_e2450_row0_col6, #T_e2450_row0_col7, #T_e2450_row2_col2, #T_e2450_row4_col2, #T_e2450_row9_col4, #T_e2450_row13_col3 {\n",
       "  text-align: left;\n",
       "  background-color: yellow;\n",
       "}\n",
       "#T_e2450_row0_col8 {\n",
       "  text-align: left;\n",
       "  background-color: yellow;\n",
       "  background-color: lightgrey;\n",
       "}\n",
       "#T_e2450_row1_col8, #T_e2450_row2_col8, #T_e2450_row3_col8, #T_e2450_row4_col8, #T_e2450_row5_col8, #T_e2450_row6_col8, #T_e2450_row7_col8, #T_e2450_row8_col8, #T_e2450_row9_col8, #T_e2450_row10_col8, #T_e2450_row11_col8, #T_e2450_row12_col8, #T_e2450_row13_col8, #T_e2450_row14_col8 {\n",
       "  text-align: left;\n",
       "  background-color: lightgrey;\n",
       "}\n",
       "</style>\n",
       "<table id=\"T_e2450\">\n",
       "  <thead>\n",
       "    <tr>\n",
       "      <th class=\"blank level0\" >&nbsp;</th>\n",
       "      <th id=\"T_e2450_level0_col0\" class=\"col_heading level0 col0\" >Model</th>\n",
       "      <th id=\"T_e2450_level0_col1\" class=\"col_heading level0 col1\" >Accuracy</th>\n",
       "      <th id=\"T_e2450_level0_col2\" class=\"col_heading level0 col2\" >AUC</th>\n",
       "      <th id=\"T_e2450_level0_col3\" class=\"col_heading level0 col3\" >Recall</th>\n",
       "      <th id=\"T_e2450_level0_col4\" class=\"col_heading level0 col4\" >Prec.</th>\n",
       "      <th id=\"T_e2450_level0_col5\" class=\"col_heading level0 col5\" >F1</th>\n",
       "      <th id=\"T_e2450_level0_col6\" class=\"col_heading level0 col6\" >Kappa</th>\n",
       "      <th id=\"T_e2450_level0_col7\" class=\"col_heading level0 col7\" >MCC</th>\n",
       "      <th id=\"T_e2450_level0_col8\" class=\"col_heading level0 col8\" >TT (Sec)</th>\n",
       "    </tr>\n",
       "  </thead>\n",
       "  <tbody>\n",
       "    <tr>\n",
       "      <th id=\"T_e2450_level0_row0\" class=\"row_heading level0 row0\" >ridge</th>\n",
       "      <td id=\"T_e2450_row0_col0\" class=\"data row0 col0\" >Ridge Classifier</td>\n",
       "      <td id=\"T_e2450_row0_col1\" class=\"data row0 col1\" >0.8723</td>\n",
       "      <td id=\"T_e2450_row0_col2\" class=\"data row0 col2\" >0.0000</td>\n",
       "      <td id=\"T_e2450_row0_col3\" class=\"data row0 col3\" >0.8929</td>\n",
       "      <td id=\"T_e2450_row0_col4\" class=\"data row0 col4\" >0.8794</td>\n",
       "      <td id=\"T_e2450_row0_col5\" class=\"data row0 col5\" >0.8851</td>\n",
       "      <td id=\"T_e2450_row0_col6\" class=\"data row0 col6\" >0.7412</td>\n",
       "      <td id=\"T_e2450_row0_col7\" class=\"data row0 col7\" >0.7437</td>\n",
       "      <td id=\"T_e2450_row0_col8\" class=\"data row0 col8\" >0.0660</td>\n",
       "    </tr>\n",
       "    <tr>\n",
       "      <th id=\"T_e2450_level0_row1\" class=\"row_heading level0 row1\" >lr</th>\n",
       "      <td id=\"T_e2450_row1_col0\" class=\"data row1 col0\" >Logistic Regression</td>\n",
       "      <td id=\"T_e2450_row1_col1\" class=\"data row1 col1\" >0.8707</td>\n",
       "      <td id=\"T_e2450_row1_col2\" class=\"data row1 col2\" >0.9245</td>\n",
       "      <td id=\"T_e2450_row1_col3\" class=\"data row1 col3\" >0.8958</td>\n",
       "      <td id=\"T_e2450_row1_col4\" class=\"data row1 col4\" >0.8754</td>\n",
       "      <td id=\"T_e2450_row1_col5\" class=\"data row1 col5\" >0.8842</td>\n",
       "      <td id=\"T_e2450_row1_col6\" class=\"data row1 col6\" >0.7377</td>\n",
       "      <td id=\"T_e2450_row1_col7\" class=\"data row1 col7\" >0.7412</td>\n",
       "      <td id=\"T_e2450_row1_col8\" class=\"data row1 col8\" >0.4400</td>\n",
       "    </tr>\n",
       "    <tr>\n",
       "      <th id=\"T_e2450_level0_row2\" class=\"row_heading level0 row2\" >lda</th>\n",
       "      <td id=\"T_e2450_row2_col0\" class=\"data row2 col0\" >Linear Discriminant Analysis</td>\n",
       "      <td id=\"T_e2450_row2_col1\" class=\"data row2 col1\" >0.8692</td>\n",
       "      <td id=\"T_e2450_row2_col2\" class=\"data row2 col2\" >0.9264</td>\n",
       "      <td id=\"T_e2450_row2_col3\" class=\"data row2 col3\" >0.8929</td>\n",
       "      <td id=\"T_e2450_row2_col4\" class=\"data row2 col4\" >0.8745</td>\n",
       "      <td id=\"T_e2450_row2_col5\" class=\"data row2 col5\" >0.8826</td>\n",
       "      <td id=\"T_e2450_row2_col6\" class=\"data row2 col6\" >0.7347</td>\n",
       "      <td id=\"T_e2450_row2_col7\" class=\"data row2 col7\" >0.7375</td>\n",
       "      <td id=\"T_e2450_row2_col8\" class=\"data row2 col8\" >0.0730</td>\n",
       "    </tr>\n",
       "    <tr>\n",
       "      <th id=\"T_e2450_level0_row3\" class=\"row_heading level0 row3\" >catboost</th>\n",
       "      <td id=\"T_e2450_row3_col0\" class=\"data row3 col0\" >CatBoost Classifier</td>\n",
       "      <td id=\"T_e2450_row3_col1\" class=\"data row3 col1\" >0.8691</td>\n",
       "      <td id=\"T_e2450_row3_col2\" class=\"data row3 col2\" >0.9254</td>\n",
       "      <td id=\"T_e2450_row3_col3\" class=\"data row3 col3\" >0.8985</td>\n",
       "      <td id=\"T_e2450_row3_col4\" class=\"data row3 col4\" >0.8724</td>\n",
       "      <td id=\"T_e2450_row3_col5\" class=\"data row3 col5\" >0.8839</td>\n",
       "      <td id=\"T_e2450_row3_col6\" class=\"data row3 col6\" >0.7338</td>\n",
       "      <td id=\"T_e2450_row3_col7\" class=\"data row3 col7\" >0.7377</td>\n",
       "      <td id=\"T_e2450_row3_col8\" class=\"data row3 col8\" >0.1540</td>\n",
       "    </tr>\n",
       "    <tr>\n",
       "      <th id=\"T_e2450_level0_row4\" class=\"row_heading level0 row4\" >rf</th>\n",
       "      <td id=\"T_e2450_row4_col0\" class=\"data row4 col0\" >Random Forest Classifier</td>\n",
       "      <td id=\"T_e2450_row4_col1\" class=\"data row4 col1\" >0.8644</td>\n",
       "      <td id=\"T_e2450_row4_col2\" class=\"data row4 col2\" >0.9264</td>\n",
       "      <td id=\"T_e2450_row4_col3\" class=\"data row4 col3\" >0.8985</td>\n",
       "      <td id=\"T_e2450_row4_col4\" class=\"data row4 col4\" >0.8650</td>\n",
       "      <td id=\"T_e2450_row4_col5\" class=\"data row4 col5\" >0.8798</td>\n",
       "      <td id=\"T_e2450_row4_col6\" class=\"data row4 col6\" >0.7243</td>\n",
       "      <td id=\"T_e2450_row4_col7\" class=\"data row4 col7\" >0.7289</td>\n",
       "      <td id=\"T_e2450_row4_col8\" class=\"data row4 col8\" >0.0960</td>\n",
       "    </tr>\n",
       "    <tr>\n",
       "      <th id=\"T_e2450_level0_row5\" class=\"row_heading level0 row5\" >gbc</th>\n",
       "      <td id=\"T_e2450_row5_col0\" class=\"data row5 col0\" >Gradient Boosting Classifier</td>\n",
       "      <td id=\"T_e2450_row5_col1\" class=\"data row5 col1\" >0.8597</td>\n",
       "      <td id=\"T_e2450_row5_col2\" class=\"data row5 col2\" >0.9239</td>\n",
       "      <td id=\"T_e2450_row5_col3\" class=\"data row5 col3\" >0.8901</td>\n",
       "      <td id=\"T_e2450_row5_col4\" class=\"data row5 col4\" >0.8643</td>\n",
       "      <td id=\"T_e2450_row5_col5\" class=\"data row5 col5\" >0.8754</td>\n",
       "      <td id=\"T_e2450_row5_col6\" class=\"data row5 col6\" >0.7148</td>\n",
       "      <td id=\"T_e2450_row5_col7\" class=\"data row5 col7\" >0.7197</td>\n",
       "      <td id=\"T_e2450_row5_col8\" class=\"data row5 col8\" >0.0850</td>\n",
       "    </tr>\n",
       "    <tr>\n",
       "      <th id=\"T_e2450_level0_row6\" class=\"row_heading level0 row6\" >et</th>\n",
       "      <td id=\"T_e2450_row6_col0\" class=\"data row6 col0\" >Extra Trees Classifier</td>\n",
       "      <td id=\"T_e2450_row6_col1\" class=\"data row6 col1\" >0.8582</td>\n",
       "      <td id=\"T_e2450_row6_col2\" class=\"data row6 col2\" >0.9150</td>\n",
       "      <td id=\"T_e2450_row6_col3\" class=\"data row6 col3\" >0.8926</td>\n",
       "      <td id=\"T_e2450_row6_col4\" class=\"data row6 col4\" >0.8583</td>\n",
       "      <td id=\"T_e2450_row6_col5\" class=\"data row6 col5\" >0.8739</td>\n",
       "      <td id=\"T_e2450_row6_col6\" class=\"data row6 col6\" >0.7117</td>\n",
       "      <td id=\"T_e2450_row6_col7\" class=\"data row6 col7\" >0.7160</td>\n",
       "      <td id=\"T_e2450_row6_col8\" class=\"data row6 col8\" >0.0880</td>\n",
       "    </tr>\n",
       "    <tr>\n",
       "      <th id=\"T_e2450_level0_row7\" class=\"row_heading level0 row7\" >ada</th>\n",
       "      <td id=\"T_e2450_row7_col0\" class=\"data row7 col0\" >Ada Boost Classifier</td>\n",
       "      <td id=\"T_e2450_row7_col1\" class=\"data row7 col1\" >0.8535</td>\n",
       "      <td id=\"T_e2450_row7_col2\" class=\"data row7 col2\" >0.9096</td>\n",
       "      <td id=\"T_e2450_row7_col3\" class=\"data row7 col3\" >0.8587</td>\n",
       "      <td id=\"T_e2450_row7_col4\" class=\"data row7 col4\" >0.8762</td>\n",
       "      <td id=\"T_e2450_row7_col5\" class=\"data row7 col5\" >0.8660</td>\n",
       "      <td id=\"T_e2450_row7_col6\" class=\"data row7 col6\" >0.7041</td>\n",
       "      <td id=\"T_e2450_row7_col7\" class=\"data row7 col7\" >0.7072</td>\n",
       "      <td id=\"T_e2450_row7_col8\" class=\"data row7 col8\" >0.0880</td>\n",
       "    </tr>\n",
       "    <tr>\n",
       "      <th id=\"T_e2450_level0_row8\" class=\"row_heading level0 row8\" >lightgbm</th>\n",
       "      <td id=\"T_e2450_row8_col0\" class=\"data row8 col0\" >Light Gradient Boosting Machine</td>\n",
       "      <td id=\"T_e2450_row8_col1\" class=\"data row8 col1\" >0.8363</td>\n",
       "      <td id=\"T_e2450_row8_col2\" class=\"data row8 col2\" >0.9110</td>\n",
       "      <td id=\"T_e2450_row8_col3\" class=\"data row8 col3\" >0.8645</td>\n",
       "      <td id=\"T_e2450_row8_col4\" class=\"data row8 col4\" >0.8461</td>\n",
       "      <td id=\"T_e2450_row8_col5\" class=\"data row8 col5\" >0.8540</td>\n",
       "      <td id=\"T_e2450_row8_col6\" class=\"data row8 col6\" >0.6677</td>\n",
       "      <td id=\"T_e2450_row8_col7\" class=\"data row8 col7\" >0.6707</td>\n",
       "      <td id=\"T_e2450_row8_col8\" class=\"data row8 col8\" >0.1650</td>\n",
       "    </tr>\n",
       "    <tr>\n",
       "      <th id=\"T_e2450_level0_row9\" class=\"row_heading level0 row9\" >nb</th>\n",
       "      <td id=\"T_e2450_row9_col0\" class=\"data row9 col0\" >Naive Bayes</td>\n",
       "      <td id=\"T_e2450_row9_col1\" class=\"data row9 col1\" >0.8210</td>\n",
       "      <td id=\"T_e2450_row9_col2\" class=\"data row9 col2\" >0.9162</td>\n",
       "      <td id=\"T_e2450_row9_col3\" class=\"data row9 col3\" >0.7492</td>\n",
       "      <td id=\"T_e2450_row9_col4\" class=\"data row9 col4\" >0.9128</td>\n",
       "      <td id=\"T_e2450_row9_col5\" class=\"data row9 col5\" >0.8197</td>\n",
       "      <td id=\"T_e2450_row9_col6\" class=\"data row9 col6\" >0.6459</td>\n",
       "      <td id=\"T_e2450_row9_col7\" class=\"data row9 col7\" >0.6611</td>\n",
       "      <td id=\"T_e2450_row9_col8\" class=\"data row9 col8\" >0.0780</td>\n",
       "    </tr>\n",
       "    <tr>\n",
       "      <th id=\"T_e2450_level0_row10\" class=\"row_heading level0 row10\" >dt</th>\n",
       "      <td id=\"T_e2450_row10_col0\" class=\"data row10 col0\" >Decision Tree Classifier</td>\n",
       "      <td id=\"T_e2450_row10_col1\" class=\"data row10 col1\" >0.7851</td>\n",
       "      <td id=\"T_e2450_row10_col2\" class=\"data row10 col2\" >0.7827</td>\n",
       "      <td id=\"T_e2450_row10_col3\" class=\"data row10 col3\" >0.8027</td>\n",
       "      <td id=\"T_e2450_row10_col4\" class=\"data row10 col4\" >0.8096</td>\n",
       "      <td id=\"T_e2450_row10_col5\" class=\"data row10 col5\" >0.8040</td>\n",
       "      <td id=\"T_e2450_row10_col6\" class=\"data row10 col6\" >0.5656</td>\n",
       "      <td id=\"T_e2450_row10_col7\" class=\"data row10 col7\" >0.5703</td>\n",
       "      <td id=\"T_e2450_row10_col8\" class=\"data row10 col8\" >0.0850</td>\n",
       "    </tr>\n",
       "    <tr>\n",
       "      <th id=\"T_e2450_level0_row11\" class=\"row_heading level0 row11\" >knn</th>\n",
       "      <td id=\"T_e2450_row11_col0\" class=\"data row11 col0\" >K Neighbors Classifier</td>\n",
       "      <td id=\"T_e2450_row11_col1\" class=\"data row11 col1\" >0.6776</td>\n",
       "      <td id=\"T_e2450_row11_col2\" class=\"data row11 col2\" >0.7259</td>\n",
       "      <td id=\"T_e2450_row11_col3\" class=\"data row11 col3\" >0.7182</td>\n",
       "      <td id=\"T_e2450_row11_col4\" class=\"data row11 col4\" >0.7112</td>\n",
       "      <td id=\"T_e2450_row11_col5\" class=\"data row11 col5\" >0.7130</td>\n",
       "      <td id=\"T_e2450_row11_col6\" class=\"data row11 col6\" >0.3439</td>\n",
       "      <td id=\"T_e2450_row11_col7\" class=\"data row11 col7\" >0.3453</td>\n",
       "      <td id=\"T_e2450_row11_col8\" class=\"data row11 col8\" >0.2340</td>\n",
       "    </tr>\n",
       "    <tr>\n",
       "      <th id=\"T_e2450_level0_row12\" class=\"row_heading level0 row12\" >svm</th>\n",
       "      <td id=\"T_e2450_row12_col0\" class=\"data row12 col0\" >SVM - Linear Kernel</td>\n",
       "      <td id=\"T_e2450_row12_col1\" class=\"data row12 col1\" >0.5902</td>\n",
       "      <td id=\"T_e2450_row12_col2\" class=\"data row12 col2\" >0.0000</td>\n",
       "      <td id=\"T_e2450_row12_col3\" class=\"data row12 col3\" >0.6883</td>\n",
       "      <td id=\"T_e2450_row12_col4\" class=\"data row12 col4\" >0.7167</td>\n",
       "      <td id=\"T_e2450_row12_col5\" class=\"data row12 col5\" >0.6040</td>\n",
       "      <td id=\"T_e2450_row12_col6\" class=\"data row12 col6\" >0.1525</td>\n",
       "      <td id=\"T_e2450_row12_col7\" class=\"data row12 col7\" >0.1913</td>\n",
       "      <td id=\"T_e2450_row12_col8\" class=\"data row12 col8\" >0.0700</td>\n",
       "    </tr>\n",
       "    <tr>\n",
       "      <th id=\"T_e2450_level0_row13\" class=\"row_heading level0 row13\" >dummy</th>\n",
       "      <td id=\"T_e2450_row13_col0\" class=\"data row13 col0\" >Dummy Classifier</td>\n",
       "      <td id=\"T_e2450_row13_col1\" class=\"data row13 col1\" >0.5530</td>\n",
       "      <td id=\"T_e2450_row13_col2\" class=\"data row13 col2\" >0.5000</td>\n",
       "      <td id=\"T_e2450_row13_col3\" class=\"data row13 col3\" >1.0000</td>\n",
       "      <td id=\"T_e2450_row13_col4\" class=\"data row13 col4\" >0.5530</td>\n",
       "      <td id=\"T_e2450_row13_col5\" class=\"data row13 col5\" >0.7121</td>\n",
       "      <td id=\"T_e2450_row13_col6\" class=\"data row13 col6\" >0.0000</td>\n",
       "      <td id=\"T_e2450_row13_col7\" class=\"data row13 col7\" >0.0000</td>\n",
       "      <td id=\"T_e2450_row13_col8\" class=\"data row13 col8\" >0.0740</td>\n",
       "    </tr>\n",
       "    <tr>\n",
       "      <th id=\"T_e2450_level0_row14\" class=\"row_heading level0 row14\" >qda</th>\n",
       "      <td id=\"T_e2450_row14_col0\" class=\"data row14 col0\" >Quadratic Discriminant Analysis</td>\n",
       "      <td id=\"T_e2450_row14_col1\" class=\"data row14 col1\" >0.4470</td>\n",
       "      <td id=\"T_e2450_row14_col2\" class=\"data row14 col2\" >0.0000</td>\n",
       "      <td id=\"T_e2450_row14_col3\" class=\"data row14 col3\" >0.0000</td>\n",
       "      <td id=\"T_e2450_row14_col4\" class=\"data row14 col4\" >0.0000</td>\n",
       "      <td id=\"T_e2450_row14_col5\" class=\"data row14 col5\" >0.0000</td>\n",
       "      <td id=\"T_e2450_row14_col6\" class=\"data row14 col6\" >0.0000</td>\n",
       "      <td id=\"T_e2450_row14_col7\" class=\"data row14 col7\" >0.0000</td>\n",
       "      <td id=\"T_e2450_row14_col8\" class=\"data row14 col8\" >0.0730</td>\n",
       "    </tr>\n",
       "  </tbody>\n",
       "</table>\n"
      ],
      "text/plain": [
       "<pandas.io.formats.style.Styler at 0x19091c56fb0>"
      ]
     },
     "metadata": {},
     "output_type": "display_data"
    },
    {
     "data": {
      "application/vnd.jupyter.widget-view+json": {
       "model_id": "",
       "version_major": 2,
       "version_minor": 0
      },
      "text/plain": [
       "Processing:   0%|          | 0/65 [00:00<?, ?it/s]"
      ]
     },
     "metadata": {},
     "output_type": "display_data"
    }
   ],
   "source": [
    "best = s.compare_models()"
   ]
  },
  {
   "cell_type": "code",
   "execution_count": 8,
   "id": "d759d8ba",
   "metadata": {},
   "outputs": [
    {
     "data": {
      "text/html": [
       "<style>#sk-container-id-1 {color: black;background-color: white;}#sk-container-id-1 pre{padding: 0;}#sk-container-id-1 div.sk-toggleable {background-color: white;}#sk-container-id-1 label.sk-toggleable__label {cursor: pointer;display: block;width: 100%;margin-bottom: 0;padding: 0.3em;box-sizing: border-box;text-align: center;}#sk-container-id-1 label.sk-toggleable__label-arrow:before {content: \"▸\";float: left;margin-right: 0.25em;color: #696969;}#sk-container-id-1 label.sk-toggleable__label-arrow:hover:before {color: black;}#sk-container-id-1 div.sk-estimator:hover label.sk-toggleable__label-arrow:before {color: black;}#sk-container-id-1 div.sk-toggleable__content {max-height: 0;max-width: 0;overflow: hidden;text-align: left;background-color: #f0f8ff;}#sk-container-id-1 div.sk-toggleable__content pre {margin: 0.2em;color: black;border-radius: 0.25em;background-color: #f0f8ff;}#sk-container-id-1 input.sk-toggleable__control:checked~div.sk-toggleable__content {max-height: 200px;max-width: 100%;overflow: auto;}#sk-container-id-1 input.sk-toggleable__control:checked~label.sk-toggleable__label-arrow:before {content: \"▾\";}#sk-container-id-1 div.sk-estimator input.sk-toggleable__control:checked~label.sk-toggleable__label {background-color: #d4ebff;}#sk-container-id-1 div.sk-label input.sk-toggleable__control:checked~label.sk-toggleable__label {background-color: #d4ebff;}#sk-container-id-1 input.sk-hidden--visually {border: 0;clip: rect(1px 1px 1px 1px);clip: rect(1px, 1px, 1px, 1px);height: 1px;margin: -1px;overflow: hidden;padding: 0;position: absolute;width: 1px;}#sk-container-id-1 div.sk-estimator {font-family: monospace;background-color: #f0f8ff;border: 1px dotted black;border-radius: 0.25em;box-sizing: border-box;margin-bottom: 0.5em;}#sk-container-id-1 div.sk-estimator:hover {background-color: #d4ebff;}#sk-container-id-1 div.sk-parallel-item::after {content: \"\";width: 100%;border-bottom: 1px solid gray;flex-grow: 1;}#sk-container-id-1 div.sk-label:hover label.sk-toggleable__label {background-color: #d4ebff;}#sk-container-id-1 div.sk-serial::before {content: \"\";position: absolute;border-left: 1px solid gray;box-sizing: border-box;top: 0;bottom: 0;left: 50%;z-index: 0;}#sk-container-id-1 div.sk-serial {display: flex;flex-direction: column;align-items: center;background-color: white;padding-right: 0.2em;padding-left: 0.2em;position: relative;}#sk-container-id-1 div.sk-item {position: relative;z-index: 1;}#sk-container-id-1 div.sk-parallel {display: flex;align-items: stretch;justify-content: center;background-color: white;position: relative;}#sk-container-id-1 div.sk-item::before, #sk-container-id-1 div.sk-parallel-item::before {content: \"\";position: absolute;border-left: 1px solid gray;box-sizing: border-box;top: 0;bottom: 0;left: 50%;z-index: -1;}#sk-container-id-1 div.sk-parallel-item {display: flex;flex-direction: column;z-index: 1;position: relative;background-color: white;}#sk-container-id-1 div.sk-parallel-item:first-child::after {align-self: flex-end;width: 50%;}#sk-container-id-1 div.sk-parallel-item:last-child::after {align-self: flex-start;width: 50%;}#sk-container-id-1 div.sk-parallel-item:only-child::after {width: 0;}#sk-container-id-1 div.sk-dashed-wrapped {border: 1px dashed gray;margin: 0 0.4em 0.5em 0.4em;box-sizing: border-box;padding-bottom: 0.4em;background-color: white;}#sk-container-id-1 div.sk-label label {font-family: monospace;font-weight: bold;display: inline-block;line-height: 1.2em;}#sk-container-id-1 div.sk-label-container {text-align: center;}#sk-container-id-1 div.sk-container {/* jupyter's `normalize.less` sets `[hidden] { display: none; }` but bootstrap.min.css set `[hidden] { display: none !important; }` so we also need the `!important` here to be able to override the default hidden behavior on the sphinx rendered scikit-learn.org. See: https://github.com/scikit-learn/scikit-learn/issues/21755 */display: inline-block !important;position: relative;}#sk-container-id-1 div.sk-text-repr-fallback {display: none;}</style><div id=\"sk-container-id-1\" class=\"sk-top-container\"><div class=\"sk-text-repr-fallback\"><pre>RidgeClassifier(alpha=1.0, class_weight=None, copy_X=True, fit_intercept=True,\n",
       "                max_iter=None, positive=False, random_state=1720, solver=&#x27;auto&#x27;,\n",
       "                tol=0.0001)</pre><b>In a Jupyter environment, please rerun this cell to show the HTML representation or trust the notebook. <br />On GitHub, the HTML representation is unable to render, please try loading this page with nbviewer.org.</b></div><div class=\"sk-container\" hidden><div class=\"sk-item\"><div class=\"sk-estimator sk-toggleable\"><input class=\"sk-toggleable__control sk-hidden--visually\" id=\"sk-estimator-id-1\" type=\"checkbox\" checked><label for=\"sk-estimator-id-1\" class=\"sk-toggleable__label sk-toggleable__label-arrow\">RidgeClassifier</label><div class=\"sk-toggleable__content\"><pre>RidgeClassifier(alpha=1.0, class_weight=None, copy_X=True, fit_intercept=True,\n",
       "                max_iter=None, positive=False, random_state=1720, solver=&#x27;auto&#x27;,\n",
       "                tol=0.0001)</pre></div></div></div></div></div>"
      ],
      "text/plain": [
       "RidgeClassifier(alpha=1.0, class_weight=None, copy_X=True, fit_intercept=True,\n",
       "                max_iter=None, positive=False, random_state=1720, solver='auto',\n",
       "                tol=0.0001)"
      ]
     },
     "execution_count": 8,
     "metadata": {},
     "output_type": "execute_result"
    }
   ],
   "source": [
    "best"
   ]
  },
  {
   "cell_type": "markdown",
   "id": "6b92a0be",
   "metadata": {},
   "source": [
    "###  Tune Hyperparameters with Pycaret"
   ]
  },
  {
   "cell_type": "code",
   "execution_count": 9,
   "id": "130028e9",
   "metadata": {},
   "outputs": [
    {
     "data": {
      "text/html": [],
      "text/plain": [
       "<IPython.core.display.HTML object>"
      ]
     },
     "metadata": {},
     "output_type": "display_data"
    },
    {
     "data": {
      "text/html": [
       "<style type=\"text/css\">\n",
       "#T_10d3a_row10_col0, #T_10d3a_row10_col1, #T_10d3a_row10_col2, #T_10d3a_row10_col3, #T_10d3a_row10_col4, #T_10d3a_row10_col5, #T_10d3a_row10_col6 {\n",
       "  background: yellow;\n",
       "}\n",
       "</style>\n",
       "<table id=\"T_10d3a\">\n",
       "  <thead>\n",
       "    <tr>\n",
       "      <th class=\"blank level0\" >&nbsp;</th>\n",
       "      <th id=\"T_10d3a_level0_col0\" class=\"col_heading level0 col0\" >Accuracy</th>\n",
       "      <th id=\"T_10d3a_level0_col1\" class=\"col_heading level0 col1\" >AUC</th>\n",
       "      <th id=\"T_10d3a_level0_col2\" class=\"col_heading level0 col2\" >Recall</th>\n",
       "      <th id=\"T_10d3a_level0_col3\" class=\"col_heading level0 col3\" >Prec.</th>\n",
       "      <th id=\"T_10d3a_level0_col4\" class=\"col_heading level0 col4\" >F1</th>\n",
       "      <th id=\"T_10d3a_level0_col5\" class=\"col_heading level0 col5\" >Kappa</th>\n",
       "      <th id=\"T_10d3a_level0_col6\" class=\"col_heading level0 col6\" >MCC</th>\n",
       "    </tr>\n",
       "    <tr>\n",
       "      <th class=\"index_name level0\" >Fold</th>\n",
       "      <th class=\"blank col0\" >&nbsp;</th>\n",
       "      <th class=\"blank col1\" >&nbsp;</th>\n",
       "      <th class=\"blank col2\" >&nbsp;</th>\n",
       "      <th class=\"blank col3\" >&nbsp;</th>\n",
       "      <th class=\"blank col4\" >&nbsp;</th>\n",
       "      <th class=\"blank col5\" >&nbsp;</th>\n",
       "      <th class=\"blank col6\" >&nbsp;</th>\n",
       "    </tr>\n",
       "  </thead>\n",
       "  <tbody>\n",
       "    <tr>\n",
       "      <th id=\"T_10d3a_level0_row0\" class=\"row_heading level0 row0\" >0</th>\n",
       "      <td id=\"T_10d3a_row0_col0\" class=\"data row0 col0\" >0.8462</td>\n",
       "      <td id=\"T_10d3a_row0_col1\" class=\"data row0 col1\" >0.0000</td>\n",
       "      <td id=\"T_10d3a_row0_col2\" class=\"data row0 col2\" >0.8333</td>\n",
       "      <td id=\"T_10d3a_row0_col3\" class=\"data row0 col3\" >0.8824</td>\n",
       "      <td id=\"T_10d3a_row0_col4\" class=\"data row0 col4\" >0.8571</td>\n",
       "      <td id=\"T_10d3a_row0_col5\" class=\"data row0 col5\" >0.6908</td>\n",
       "      <td id=\"T_10d3a_row0_col6\" class=\"data row0 col6\" >0.6921</td>\n",
       "    </tr>\n",
       "    <tr>\n",
       "      <th id=\"T_10d3a_level0_row1\" class=\"row_heading level0 row1\" >1</th>\n",
       "      <td id=\"T_10d3a_row1_col0\" class=\"data row1 col0\" >0.8923</td>\n",
       "      <td id=\"T_10d3a_row1_col1\" class=\"data row1 col1\" >0.0000</td>\n",
       "      <td id=\"T_10d3a_row1_col2\" class=\"data row1 col2\" >0.8889</td>\n",
       "      <td id=\"T_10d3a_row1_col3\" class=\"data row1 col3\" >0.9143</td>\n",
       "      <td id=\"T_10d3a_row1_col4\" class=\"data row1 col4\" >0.9014</td>\n",
       "      <td id=\"T_10d3a_row1_col5\" class=\"data row1 col5\" >0.7828</td>\n",
       "      <td id=\"T_10d3a_row1_col6\" class=\"data row1 col6\" >0.7832</td>\n",
       "    </tr>\n",
       "    <tr>\n",
       "      <th id=\"T_10d3a_level0_row2\" class=\"row_heading level0 row2\" >2</th>\n",
       "      <td id=\"T_10d3a_row2_col0\" class=\"data row2 col0\" >0.9219</td>\n",
       "      <td id=\"T_10d3a_row2_col1\" class=\"data row2 col1\" >0.0000</td>\n",
       "      <td id=\"T_10d3a_row2_col2\" class=\"data row2 col2\" >1.0000</td>\n",
       "      <td id=\"T_10d3a_row2_col3\" class=\"data row2 col3\" >0.8780</td>\n",
       "      <td id=\"T_10d3a_row2_col4\" class=\"data row2 col4\" >0.9351</td>\n",
       "      <td id=\"T_10d3a_row2_col5\" class=\"data row2 col5\" >0.8381</td>\n",
       "      <td id=\"T_10d3a_row2_col6\" class=\"data row2 col6\" >0.8493</td>\n",
       "    </tr>\n",
       "    <tr>\n",
       "      <th id=\"T_10d3a_level0_row3\" class=\"row_heading level0 row3\" >3</th>\n",
       "      <td id=\"T_10d3a_row3_col0\" class=\"data row3 col0\" >0.8281</td>\n",
       "      <td id=\"T_10d3a_row3_col1\" class=\"data row3 col1\" >0.0000</td>\n",
       "      <td id=\"T_10d3a_row3_col2\" class=\"data row3 col2\" >0.8333</td>\n",
       "      <td id=\"T_10d3a_row3_col3\" class=\"data row3 col3\" >0.8571</td>\n",
       "      <td id=\"T_10d3a_row3_col4\" class=\"data row3 col4\" >0.8451</td>\n",
       "      <td id=\"T_10d3a_row3_col5\" class=\"data row3 col5\" >0.6522</td>\n",
       "      <td id=\"T_10d3a_row3_col6\" class=\"data row3 col6\" >0.6525</td>\n",
       "    </tr>\n",
       "    <tr>\n",
       "      <th id=\"T_10d3a_level0_row4\" class=\"row_heading level0 row4\" >4</th>\n",
       "      <td id=\"T_10d3a_row4_col0\" class=\"data row4 col0\" >0.8906</td>\n",
       "      <td id=\"T_10d3a_row4_col1\" class=\"data row4 col1\" >0.0000</td>\n",
       "      <td id=\"T_10d3a_row4_col2\" class=\"data row4 col2\" >0.9167</td>\n",
       "      <td id=\"T_10d3a_row4_col3\" class=\"data row4 col3\" >0.8919</td>\n",
       "      <td id=\"T_10d3a_row4_col4\" class=\"data row4 col4\" >0.9041</td>\n",
       "      <td id=\"T_10d3a_row4_col5\" class=\"data row4 col5\" >0.7769</td>\n",
       "      <td id=\"T_10d3a_row4_col6\" class=\"data row4 col6\" >0.7773</td>\n",
       "    </tr>\n",
       "    <tr>\n",
       "      <th id=\"T_10d3a_level0_row5\" class=\"row_heading level0 row5\" >5</th>\n",
       "      <td id=\"T_10d3a_row5_col0\" class=\"data row5 col0\" >0.9375</td>\n",
       "      <td id=\"T_10d3a_row5_col1\" class=\"data row5 col1\" >0.0000</td>\n",
       "      <td id=\"T_10d3a_row5_col2\" class=\"data row5 col2\" >0.9143</td>\n",
       "      <td id=\"T_10d3a_row5_col3\" class=\"data row5 col3\" >0.9697</td>\n",
       "      <td id=\"T_10d3a_row5_col4\" class=\"data row5 col4\" >0.9412</td>\n",
       "      <td id=\"T_10d3a_row5_col5\" class=\"data row5 col5\" >0.8746</td>\n",
       "      <td id=\"T_10d3a_row5_col6\" class=\"data row5 col6\" >0.8764</td>\n",
       "    </tr>\n",
       "    <tr>\n",
       "      <th id=\"T_10d3a_level0_row6\" class=\"row_heading level0 row6\" >6</th>\n",
       "      <td id=\"T_10d3a_row6_col0\" class=\"data row6 col0\" >0.8594</td>\n",
       "      <td id=\"T_10d3a_row6_col1\" class=\"data row6 col1\" >0.0000</td>\n",
       "      <td id=\"T_10d3a_row6_col2\" class=\"data row6 col2\" >0.9143</td>\n",
       "      <td id=\"T_10d3a_row6_col3\" class=\"data row6 col3\" >0.8421</td>\n",
       "      <td id=\"T_10d3a_row6_col4\" class=\"data row6 col4\" >0.8767</td>\n",
       "      <td id=\"T_10d3a_row6_col5\" class=\"data row6 col5\" >0.7137</td>\n",
       "      <td id=\"T_10d3a_row6_col6\" class=\"data row6 col6\" >0.7170</td>\n",
       "    </tr>\n",
       "    <tr>\n",
       "      <th id=\"T_10d3a_level0_row7\" class=\"row_heading level0 row7\" >7</th>\n",
       "      <td id=\"T_10d3a_row7_col0\" class=\"data row7 col0\" >0.8438</td>\n",
       "      <td id=\"T_10d3a_row7_col1\" class=\"data row7 col1\" >0.0000</td>\n",
       "      <td id=\"T_10d3a_row7_col2\" class=\"data row7 col2\" >0.8857</td>\n",
       "      <td id=\"T_10d3a_row7_col3\" class=\"data row7 col3\" >0.8378</td>\n",
       "      <td id=\"T_10d3a_row7_col4\" class=\"data row7 col4\" >0.8611</td>\n",
       "      <td id=\"T_10d3a_row7_col5\" class=\"data row7 col5\" >0.6829</td>\n",
       "      <td id=\"T_10d3a_row7_col6\" class=\"data row7 col6\" >0.6842</td>\n",
       "    </tr>\n",
       "    <tr>\n",
       "      <th id=\"T_10d3a_level0_row8\" class=\"row_heading level0 row8\" >8</th>\n",
       "      <td id=\"T_10d3a_row8_col0\" class=\"data row8 col0\" >0.8438</td>\n",
       "      <td id=\"T_10d3a_row8_col1\" class=\"data row8 col1\" >0.0000</td>\n",
       "      <td id=\"T_10d3a_row8_col2\" class=\"data row8 col2\" >0.8286</td>\n",
       "      <td id=\"T_10d3a_row8_col3\" class=\"data row8 col3\" >0.8788</td>\n",
       "      <td id=\"T_10d3a_row8_col4\" class=\"data row8 col4\" >0.8529</td>\n",
       "      <td id=\"T_10d3a_row8_col5\" class=\"data row8 col5\" >0.6866</td>\n",
       "      <td id=\"T_10d3a_row8_col6\" class=\"data row8 col6\" >0.6879</td>\n",
       "    </tr>\n",
       "    <tr>\n",
       "      <th id=\"T_10d3a_level0_row9\" class=\"row_heading level0 row9\" >9</th>\n",
       "      <td id=\"T_10d3a_row9_col0\" class=\"data row9 col0\" >0.8594</td>\n",
       "      <td id=\"T_10d3a_row9_col1\" class=\"data row9 col1\" >0.0000</td>\n",
       "      <td id=\"T_10d3a_row9_col2\" class=\"data row9 col2\" >0.9143</td>\n",
       "      <td id=\"T_10d3a_row9_col3\" class=\"data row9 col3\" >0.8421</td>\n",
       "      <td id=\"T_10d3a_row9_col4\" class=\"data row9 col4\" >0.8767</td>\n",
       "      <td id=\"T_10d3a_row9_col5\" class=\"data row9 col5\" >0.7137</td>\n",
       "      <td id=\"T_10d3a_row9_col6\" class=\"data row9 col6\" >0.7170</td>\n",
       "    </tr>\n",
       "    <tr>\n",
       "      <th id=\"T_10d3a_level0_row10\" class=\"row_heading level0 row10\" >Mean</th>\n",
       "      <td id=\"T_10d3a_row10_col0\" class=\"data row10 col0\" >0.8723</td>\n",
       "      <td id=\"T_10d3a_row10_col1\" class=\"data row10 col1\" >0.0000</td>\n",
       "      <td id=\"T_10d3a_row10_col2\" class=\"data row10 col2\" >0.8929</td>\n",
       "      <td id=\"T_10d3a_row10_col3\" class=\"data row10 col3\" >0.8794</td>\n",
       "      <td id=\"T_10d3a_row10_col4\" class=\"data row10 col4\" >0.8851</td>\n",
       "      <td id=\"T_10d3a_row10_col5\" class=\"data row10 col5\" >0.7412</td>\n",
       "      <td id=\"T_10d3a_row10_col6\" class=\"data row10 col6\" >0.7437</td>\n",
       "    </tr>\n",
       "    <tr>\n",
       "      <th id=\"T_10d3a_level0_row11\" class=\"row_heading level0 row11\" >Std</th>\n",
       "      <td id=\"T_10d3a_row11_col0\" class=\"data row11 col0\" >0.0347</td>\n",
       "      <td id=\"T_10d3a_row11_col1\" class=\"data row11 col1\" >0.0000</td>\n",
       "      <td id=\"T_10d3a_row11_col2\" class=\"data row11 col2\" >0.0497</td>\n",
       "      <td id=\"T_10d3a_row11_col3\" class=\"data row11 col3\" >0.0381</td>\n",
       "      <td id=\"T_10d3a_row11_col4\" class=\"data row11 col4\" >0.0323</td>\n",
       "      <td id=\"T_10d3a_row11_col5\" class=\"data row11 col5\" >0.0697</td>\n",
       "      <td id=\"T_10d3a_row11_col6\" class=\"data row11 col6\" >0.0711</td>\n",
       "    </tr>\n",
       "  </tbody>\n",
       "</table>\n"
      ],
      "text/plain": [
       "<pandas.io.formats.style.Styler at 0x19092f3f040>"
      ]
     },
     "metadata": {},
     "output_type": "display_data"
    },
    {
     "data": {
      "application/vnd.jupyter.widget-view+json": {
       "model_id": "",
       "version_major": 2,
       "version_minor": 0
      },
      "text/plain": [
       "Processing:   0%|          | 0/7 [00:00<?, ?it/s]"
      ]
     },
     "metadata": {},
     "output_type": "display_data"
    },
    {
     "name": "stdout",
     "output_type": "stream",
     "text": [
      "Fitting 10 folds for each of 10 candidates, totalling 100 fits\n",
      "Original model was better than the tuned model, hence it will be returned. NOTE: The display metrics are for the tuned model (not the original one).\n"
     ]
    }
   ],
   "source": [
    "tuned = tune_model(best)"
   ]
  },
  {
   "cell_type": "markdown",
   "id": "94f5b2a7",
   "metadata": {},
   "source": [
    "### Evaluate Model with necessary vizualizations"
   ]
  },
  {
   "cell_type": "code",
   "execution_count": 10,
   "id": "076ee921",
   "metadata": {},
   "outputs": [
    {
     "data": {
      "application/vnd.jupyter.widget-view+json": {
       "model_id": "92cb163c4d0b473e9479b3686b3a7195",
       "version_major": 2,
       "version_minor": 0
      },
      "text/plain": [
       "interactive(children=(ToggleButtons(description='Plot Type:', icons=('',), options=(('Pipeline Plot', 'pipelin…"
      ]
     },
     "metadata": {},
     "output_type": "display_data"
    }
   ],
   "source": [
    "s.evaluate_model(best)"
   ]
  },
  {
   "cell_type": "code",
   "execution_count": 11,
   "id": "1e5952bb",
   "metadata": {},
   "outputs": [
    {
     "data": {
      "text/html": [],
      "text/plain": [
       "<IPython.core.display.HTML object>"
      ]
     },
     "metadata": {},
     "output_type": "display_data"
    },
    {
     "data": {
      "image/png": "[encoded data removed]",
      "text/plain": [
       "<Figure size 800x550 with 2 Axes>"
      ]
     },
     "metadata": {},
     "output_type": "display_data"
    }
   ],
   "source": [
    "s.plot_model(best, plot = 'class_report')"
   ]
  },
  {
   "cell_type": "code",
   "execution_count": 12,
   "id": "677841f1",
   "metadata": {},
   "outputs": [
    {
     "data": {
      "text/html": [],
      "text/plain": [
       "<IPython.core.display.HTML object>"
      ]
     },
     "metadata": {},
     "output_type": "display_data"
    },
    {
     "data": {
      "image/png": "[encoded data removed]",
      "text/plain": [
       "<Figure size 800x550 with 1 Axes>"
      ]
     },
     "metadata": {},
     "output_type": "display_data"
    }
   ],
   "source": [
    "s.plot_model(best, plot = 'confusion_matrix')"
   ]
  },
  {
   "cell_type": "code",
   "execution_count": 13,
   "id": "947dbe7e",
   "metadata": {},
   "outputs": [
    {
     "data": {
      "text/html": [],
      "text/plain": [
       "<IPython.core.display.HTML object>"
      ]
     },
     "metadata": {},
     "output_type": "display_data"
    },
    {
     "data": {
      "image/png": "[encoded data removed]",
      "text/plain": [
       "<Figure size 800x500 with 1 Axes>"
      ]
     },
     "metadata": {},
     "output_type": "display_data"
    }
   ],
   "source": [
    "s.plot_model(best, plot = 'feature')"
   ]
  },
  {
   "cell_type": "code",
   "execution_count": null,
   "id": "b02166d0",
   "metadata": {},
   "outputs": [],
   "source": []
  }
 ],
 "metadata": {
  "kernelspec": {
   "display_name": "Python 3 (ipykernel)",
   "language": "python",
   "name": "python3"
  },
  "language_info": {
   "codemirror_mode": {
    "name": "ipython",
    "version": 3
   },
   "file_extension": ".py",
   "mimetype": "text/x-python",
   "name": "python",
   "nbconvert_exporter": "python",
   "pygments_lexer": "ipython3",
   "version": "3.10.9"
  }
 },
 "nbformat": 4,
 "nbformat_minor": 5
}
